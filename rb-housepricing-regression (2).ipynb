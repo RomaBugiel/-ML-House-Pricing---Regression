{
 "cells": [
  {
   "cell_type": "code",
   "execution_count": 1,
   "id": "92323fd4",
   "metadata": {
    "_cell_guid": "b1076dfc-b9ad-4769-8c92-a6c4dae69d19",
    "_uuid": "8f2839f25d086af736a60e9eeb907d3b93b6e0e5",
    "execution": {
     "iopub.execute_input": "2024-06-07T11:32:48.591128Z",
     "iopub.status.busy": "2024-06-07T11:32:48.590675Z",
     "iopub.status.idle": "2024-06-07T11:32:51.945663Z",
     "shell.execute_reply": "2024-06-07T11:32:51.944200Z"
    },
    "papermill": {
     "duration": 3.379513,
     "end_time": "2024-06-07T11:32:51.948776",
     "exception": false,
     "start_time": "2024-06-07T11:32:48.569263",
     "status": "completed"
    },
    "tags": []
   },
   "outputs": [
    {
     "name": "stdout",
     "output_type": "stream",
     "text": [
      "/kaggle/input/house-prices-advanced-regression-techniques/sample_submission.csv\n",
      "/kaggle/input/house-prices-advanced-regression-techniques/data_description.txt\n",
      "/kaggle/input/house-prices-advanced-regression-techniques/train.csv\n",
      "/kaggle/input/house-prices-advanced-regression-techniques/test.csv\n"
     ]
    }
   ],
   "source": [
    "# This Python 3 environment comes with many helpful analytics libraries installed\n",
    "# It is defined by the kaggle/python Docker image: https://github.com/kaggle/docker-python\n",
    "# For example, here's several helpful packages to load\n",
    "\n",
    "import numpy as np # linear algebra\n",
    "import pandas as pd # data processing, CSV file I/O (e.g. pd.read_csv)\n",
    "import seaborn as sns\n",
    "import matplotlib.pyplot as plt\n",
    "import csv, sqlite3\n",
    "from sklearn.preprocessing import LabelEncoder, OneHotEncoder\n",
    "from sklearn.linear_model import LogisticRegression, LinearRegression\n",
    "from sklearn.tree import DecisionTreeClassifier\n",
    "from sklearn.ensemble import RandomForestClassifier\n",
    "from sklearn.svm import SVC\n",
    "from sklearn.neighbors import KNeighborsClassifier\n",
    "from sklearn.naive_bayes import GaussianNB\n",
    "from sklearn.model_selection import train_test_split, GridSearchCV\n",
    "from sklearn.metrics import accuracy_score\n",
    "from xgboost import XGBClassifier\n",
    "import xgboost as xgb  # Import the XGBoost library\n",
    "from sklearn.pipeline import Pipeline\n",
    "\n",
    "# Input data files are available in the read-only \"../input/\" directory\n",
    "# For example, running this (by clicking run or pressing Shift+Enter) will list all files under the input directory\n",
    "\n",
    "import os\n",
    "for dirname, _, filenames in os.walk('/kaggle/input'):\n",
    "    for filename in filenames:\n",
    "        print(os.path.join(dirname, filename))\n",
    "\n",
    "import warnings\n",
    "\n",
    "# Suppress specific warnings or all warnings\n",
    "warnings.filterwarnings('ignore')"
   ]
  },
  {
   "cell_type": "code",
   "execution_count": 2,
   "id": "009686a9",
   "metadata": {
    "execution": {
     "iopub.execute_input": "2024-06-07T11:32:51.992531Z",
     "iopub.status.busy": "2024-06-07T11:32:51.991985Z",
     "iopub.status.idle": "2024-06-07T11:33:09.815923Z",
     "shell.execute_reply": "2024-06-07T11:33:09.814008Z"
    },
    "papermill": {
     "duration": 17.848818,
     "end_time": "2024-06-07T11:33:09.819081",
     "exception": false,
     "start_time": "2024-06-07T11:32:51.970263",
     "status": "completed"
    },
    "tags": []
   },
   "outputs": [
    {
     "name": "stdout",
     "output_type": "stream",
     "text": [
      "Collecting dmba\r\n",
      "  Downloading dmba-0.2.4-py3-none-any.whl.metadata (1.9 kB)\r\n",
      "Requirement already satisfied: graphviz in /opt/conda/lib/python3.10/site-packages (from dmba) (0.20.3)\r\n",
      "Requirement already satisfied: matplotlib in /opt/conda/lib/python3.10/site-packages (from dmba) (3.7.5)\r\n",
      "Requirement already satisfied: numpy in /opt/conda/lib/python3.10/site-packages (from dmba) (1.26.4)\r\n",
      "Requirement already satisfied: pandas in /opt/conda/lib/python3.10/site-packages (from dmba) (2.2.2)\r\n",
      "Requirement already satisfied: scikit-learn in /opt/conda/lib/python3.10/site-packages (from dmba) (1.2.2)\r\n",
      "Requirement already satisfied: scipy in /opt/conda/lib/python3.10/site-packages (from dmba) (1.11.4)\r\n",
      "Requirement already satisfied: contourpy>=1.0.1 in /opt/conda/lib/python3.10/site-packages (from matplotlib->dmba) (1.2.0)\r\n",
      "Requirement already satisfied: cycler>=0.10 in /opt/conda/lib/python3.10/site-packages (from matplotlib->dmba) (0.12.1)\r\n",
      "Requirement already satisfied: fonttools>=4.22.0 in /opt/conda/lib/python3.10/site-packages (from matplotlib->dmba) (4.47.0)\r\n",
      "Requirement already satisfied: kiwisolver>=1.0.1 in /opt/conda/lib/python3.10/site-packages (from matplotlib->dmba) (1.4.5)\r\n",
      "Requirement already satisfied: packaging>=20.0 in /opt/conda/lib/python3.10/site-packages (from matplotlib->dmba) (21.3)\r\n",
      "Requirement already satisfied: pillow>=6.2.0 in /opt/conda/lib/python3.10/site-packages (from matplotlib->dmba) (9.5.0)\r\n",
      "Requirement already satisfied: pyparsing>=2.3.1 in /opt/conda/lib/python3.10/site-packages (from matplotlib->dmba) (3.1.1)\r\n",
      "Requirement already satisfied: python-dateutil>=2.7 in /opt/conda/lib/python3.10/site-packages (from matplotlib->dmba) (2.9.0.post0)\r\n",
      "Requirement already satisfied: pytz>=2020.1 in /opt/conda/lib/python3.10/site-packages (from pandas->dmba) (2023.3.post1)\r\n",
      "Requirement already satisfied: tzdata>=2022.7 in /opt/conda/lib/python3.10/site-packages (from pandas->dmba) (2023.4)\r\n",
      "Requirement already satisfied: joblib>=1.1.1 in /opt/conda/lib/python3.10/site-packages (from scikit-learn->dmba) (1.4.0)\r\n",
      "Requirement already satisfied: threadpoolctl>=2.0.0 in /opt/conda/lib/python3.10/site-packages (from scikit-learn->dmba) (3.2.0)\r\n",
      "Requirement already satisfied: six>=1.5 in /opt/conda/lib/python3.10/site-packages (from python-dateutil>=2.7->matplotlib->dmba) (1.16.0)\r\n",
      "Downloading dmba-0.2.4-py3-none-any.whl (11.8 MB)\r\n",
      "\u001b[2K   \u001b[90m━━━━━━━━━━━━━━━━━━━━━━━━━━━━━━━━━━━━━━━━\u001b[0m \u001b[32m11.8/11.8 MB\u001b[0m \u001b[31m67.2 MB/s\u001b[0m eta \u001b[36m0:00:00\u001b[0m\r\n",
      "\u001b[?25hInstalling collected packages: dmba\r\n",
      "Successfully installed dmba-0.2.4\r\n",
      "Note: you may need to restart the kernel to use updated packages.\n"
     ]
    }
   ],
   "source": [
    "pip install dmba"
   ]
  },
  {
   "cell_type": "markdown",
   "id": "0ef1567f",
   "metadata": {
    "papermill": {
     "duration": 0.022832,
     "end_time": "2024-06-07T11:33:09.864651",
     "exception": false,
     "start_time": "2024-06-07T11:33:09.841819",
     "status": "completed"
    },
    "tags": []
   },
   "source": [
    "# House Pricing Dataset \n",
    "\n",
    "## Overview\n",
    "Title: House Prices: Advanced Regression Techniques\n",
    "Source: Kaggle House Prices Dataset\n",
    "Goal: Predict the sale prices of houses based on various features.\n",
    "Description\n",
    "The dataset contains 79 explanatory variables describing (almost) every aspect of residential homes in Ames, Iowa. This dataset is often used to explore advanced regression techniques, feature engineering, and model evaluation.\n",
    "\n",
    "## Files\n",
    "* train.csv: The training dataset with features and the target variable (SalePrice).\n",
    "* test.csv: The test dataset with features only, used for making predictions.\n",
    "* data_description.txt: Detailed description of each feature in the dataset.\n",
    "* sample_submission.csv: A sample submission file in the correct format.\n",
    "\n",
    "## Key Features\n",
    "\n",
    "The dataset includes numerous features describing the properties. Here is a summary of some key features:\n",
    "\n",
    "<div style=\"display: flex;\">\n",
    "\n",
    "<div style=\"flex: 1; padding: 10px;\">\n",
    "    \n",
    "| Feature            | Description                                                   |\n",
    "|--------------------|---------------------------------------------------------------|\n",
    "| `Id`               | Unique identifier for each property                           |\n",
    "| `MSSubClass`       | The building class                                            |\n",
    "| `MSZoning`         | The general zoning classification                             |\n",
    "| `LotFrontage`      | Linear feet of street connected to the property               |\n",
    "| `LotArea`          | Lot size in square feet                                       |\n",
    "| `Street`           | Type of road access to the property                           |\n",
    "| `Alley`            | Type of alley access to the property                          |\n",
    "| `LotShape`         | General shape of property                                     |\n",
    "| `LandContour`      | Flatness of the property                                      |\n",
    "| `Utilities`        | Type of utilities available                                   |\n",
    "| `LotConfig`        | Lot configuration                                             |\n",
    "| `LandSlope`        | Slope of property                                             |\n",
    "| `Neighborhood`     | Physical locations within Ames city limits                    |\n",
    "| `Condition1`       | Proximity to main road or railroad                            |\n",
    "| `Condition2`       | Proximity to main road or railroad (if a second is present)   |\n",
    "| `BldgType`         | Type of dwelling                                             |\n",
    "| `HouseStyle`       | Style of dwelling                                             |\n",
    "| `OverallQual`      | Overall material and finish quality                           |\n",
    "| `OverallCond`      | Overall condition rating                                      |\n",
    "| `YearBuilt`        | Original construction date                                    |\n",
    "| `YearRemodAdd`     | Remodel date                                                  |\n",
    "| `RoofStyle`        | Type of roof                                                  |\n",
    "| `RoofMatl`         | Roof material                                                 |\n",
    "| `Exterior1st`      | Exterior covering on house                                    |\n",
    "| `Exterior2nd`      | Exterior covering on house (if more than one material)        |\n",
    "| `MasVnrType`       | Masonry veneer type                                           |\n",
    "| `MasVnrArea`       | Masonry veneer area in square feet                            |\n",
    "| `ExterQual`        | Exterior material quality                                     |\n",
    "| `ExterCond`        | Present condition of the material on the exterior             |\n",
    "| `Foundation`       | Type of foundation                                            |\n",
    "| `BsmtQual`         | Height of the basement                                       |\n",
    "| `BsmtCond`         | General condition of the basement                             |\n",
    "| `BsmtExposure`     | Walkout or garden level basement walls                        |\n",
    "| `BsmtFinType1`     | Quality of basement finished area                             |\n",
    "| `BsmtFinSF1`       | Type 1 finished square feet                                   |\n",
    "| `BsmtFinType2`     | Quality of second finished area (if present)                  |\n",
    "| `BsmtFinSF2`       | Type 2 finished square feet                                   |\n",
    "| `BsmtUnfSF`        | Unfinished square feet of basement                            |\n",
    "| `TotalBsmtSF`      | Total square feet of basement area                            |\n",
    "</div>\n",
    "\n",
    "<div style=\"flex: 1; padding: 10px;\">\n",
    "\n",
    "| Feature            | Description                                                   |\n",
    "|--------------------|---------------------------------------------------------------|\n",
    "| `Heating`          | Type of heating                                               |\n",
    "| `HeatingQC`        | Heating quality and condition                                 |\n",
    "| `CentralAir`       | Central air conditioning (Y/N)                                |\n",
    "| `Electrical`       | Electrical system                                             |\n",
    "| `1stFlrSF`         | First-floor square feet                                       |\n",
    "| `2ndFlrSF`         | Second-floor square feet                                      |\n",
    "| `LowQualFinSF`     | Low-quality finished square feet (all floors)                 |\n",
    "| `GrLivArea`        | Above grade (ground) living area square feet                  |\n",
    "| `BsmtFullBath`     | Basement full bathrooms                                       |\n",
    "| `BsmtHalfBath`     | Basement half bathrooms                                       |\n",
    "| `FullBath`         | Full bathrooms above grade                                    |\n",
    "| `HalfBath`         | Half baths above grade                                        |\n",
    "| `BedroomAbvGr`     | Number of bedrooms above basement level                       |\n",
    "| `KitchenAbvGr`     | Number of kitchens                                            |\n",
    "| `KitchenQual`      | Kitchen quality                                               |\n",
    "| `TotRmsAbvGrd`     | Total rooms above grade (does not include bathrooms)          |\n",
    "| `Functional`       | Home functionality rating                                     |\n",
    "| `Fireplaces`       | Number of fireplaces                                          |\n",
    "| `FireplaceQu`      | Fireplace quality                                             |\n",
    "| `GarageType`       | Garage location                                               |\n",
    "| `GarageYrBlt`      | Year garage was built                                         |\n",
    "| `GarageFinish`     | Interior finish of the garage                                 |\n",
    "| `GarageCars`       | Size of garage in car capacity                                |\n",
    "| `GarageArea`       | Size of garage in square feet                                 |\n",
    "| `GarageQual`       | Garage quality                                                |\n",
    "| `GarageCond`       | Garage condition                                              |\n",
    "| `PavedDrive`       | Paved driveway (Y/N)                                          |\n",
    "| `WoodDeckSF`       | Wood deck area in square feet                                 |\n",
    "| `OpenPorchSF`      | Open porch area in square feet                                |\n",
    "| `EnclosedPorch`    | Enclosed porch area in square feet                            |\n",
    "| `3SsnPorch`        | Three-season porch area in square feet                        |\n",
    "| `ScreenPorch`      | Screen porch area in square feet                              |\n",
    "| `PoolArea`         | Pool area in square feet                                      |\n",
    "| `PoolQC`           | Pool quality                                                  |\n",
    "| `Fence`            | Fence quality                                                 |\n",
    "| `MiscFeature`      | Miscellaneous feature not covered in other categories         |\n",
    "| `MiscVal`          | Value of miscellaneous feature                                |\n",
    "| `MoSold`           | Month sold                                                    |\n",
    "| `YrSold`           | Year sold                                                     |\n",
    "| `SaleType`         | Type of sale                                                  |\n",
    "| `SaleCondition`    | Condition of sale                                             |\n",
    "| `SalePrice`        | Sale price of the property                                    |\n",
    "\n",
    "</div>\n",
    "    \n",
    "</div>\n",
    "This dataset is great for practicing data preprocessing, feature engineering, and building regression models. You can find the dataset and more details on the Kaggle competition page: [House Prices - Advanced Regression Techniques](https://www.kaggle.com/c/house-prices-advanced-regression-techniques).\n"
   ]
  },
  {
   "cell_type": "markdown",
   "id": "6d447e51",
   "metadata": {
    "papermill": {
     "duration": 0.022911,
     "end_time": "2024-06-07T11:33:09.910319",
     "exception": false,
     "start_time": "2024-06-07T11:33:09.887408",
     "status": "completed"
    },
    "tags": []
   },
   "source": [
    "## Load data and overview"
   ]
  },
  {
   "cell_type": "code",
   "execution_count": 3,
   "id": "43ba6091",
   "metadata": {
    "execution": {
     "iopub.execute_input": "2024-06-07T11:33:09.954787Z",
     "iopub.status.busy": "2024-06-07T11:33:09.954315Z",
     "iopub.status.idle": "2024-06-07T11:33:09.962092Z",
     "shell.execute_reply": "2024-06-07T11:33:09.960820Z"
    },
    "papermill": {
     "duration": 0.033649,
     "end_time": "2024-06-07T11:33:09.965258",
     "exception": false,
     "start_time": "2024-06-07T11:33:09.931609",
     "status": "completed"
    },
    "tags": []
   },
   "outputs": [],
   "source": [
    "custom_palette = sns.color_palette(\"pastel\", 10)\n",
    "sns.set_palette(custom_palette)\n",
    "color1 = sns.color_palette(\"pastel\")[2]\n",
    "color2 = sns.color_palette(\"pastel\")[3]"
   ]
  },
  {
   "cell_type": "code",
   "execution_count": 4,
   "id": "6789706f",
   "metadata": {
    "execution": {
     "iopub.execute_input": "2024-06-07T11:33:10.008778Z",
     "iopub.status.busy": "2024-06-07T11:33:10.008358Z",
     "iopub.status.idle": "2024-06-07T11:33:10.153139Z",
     "shell.execute_reply": "2024-06-07T11:33:10.151546Z"
    },
    "papermill": {
     "duration": 0.170701,
     "end_time": "2024-06-07T11:33:10.156761",
     "exception": false,
     "start_time": "2024-06-07T11:33:09.986060",
     "status": "completed"
    },
    "tags": []
   },
   "outputs": [
    {
     "data": {
      "text/html": [
       "<div>\n",
       "<style scoped>\n",
       "    .dataframe tbody tr th:only-of-type {\n",
       "        vertical-align: middle;\n",
       "    }\n",
       "\n",
       "    .dataframe tbody tr th {\n",
       "        vertical-align: top;\n",
       "    }\n",
       "\n",
       "    .dataframe thead th {\n",
       "        text-align: right;\n",
       "    }\n",
       "</style>\n",
       "<table border=\"1\" class=\"dataframe\">\n",
       "  <thead>\n",
       "    <tr style=\"text-align: right;\">\n",
       "      <th></th>\n",
       "      <th>Id</th>\n",
       "      <th>MSSubClass</th>\n",
       "      <th>MSZoning</th>\n",
       "      <th>LotFrontage</th>\n",
       "      <th>LotArea</th>\n",
       "      <th>Street</th>\n",
       "      <th>Alley</th>\n",
       "      <th>LotShape</th>\n",
       "      <th>LandContour</th>\n",
       "      <th>Utilities</th>\n",
       "      <th>...</th>\n",
       "      <th>PoolArea</th>\n",
       "      <th>PoolQC</th>\n",
       "      <th>Fence</th>\n",
       "      <th>MiscFeature</th>\n",
       "      <th>MiscVal</th>\n",
       "      <th>MoSold</th>\n",
       "      <th>YrSold</th>\n",
       "      <th>SaleType</th>\n",
       "      <th>SaleCondition</th>\n",
       "      <th>SalePrice</th>\n",
       "    </tr>\n",
       "  </thead>\n",
       "  <tbody>\n",
       "    <tr>\n",
       "      <th>0</th>\n",
       "      <td>1</td>\n",
       "      <td>60</td>\n",
       "      <td>RL</td>\n",
       "      <td>65.0</td>\n",
       "      <td>8450</td>\n",
       "      <td>Pave</td>\n",
       "      <td>NaN</td>\n",
       "      <td>Reg</td>\n",
       "      <td>Lvl</td>\n",
       "      <td>AllPub</td>\n",
       "      <td>...</td>\n",
       "      <td>0</td>\n",
       "      <td>NaN</td>\n",
       "      <td>NaN</td>\n",
       "      <td>NaN</td>\n",
       "      <td>0</td>\n",
       "      <td>2</td>\n",
       "      <td>2008</td>\n",
       "      <td>WD</td>\n",
       "      <td>Normal</td>\n",
       "      <td>208500</td>\n",
       "    </tr>\n",
       "    <tr>\n",
       "      <th>1</th>\n",
       "      <td>2</td>\n",
       "      <td>20</td>\n",
       "      <td>RL</td>\n",
       "      <td>80.0</td>\n",
       "      <td>9600</td>\n",
       "      <td>Pave</td>\n",
       "      <td>NaN</td>\n",
       "      <td>Reg</td>\n",
       "      <td>Lvl</td>\n",
       "      <td>AllPub</td>\n",
       "      <td>...</td>\n",
       "      <td>0</td>\n",
       "      <td>NaN</td>\n",
       "      <td>NaN</td>\n",
       "      <td>NaN</td>\n",
       "      <td>0</td>\n",
       "      <td>5</td>\n",
       "      <td>2007</td>\n",
       "      <td>WD</td>\n",
       "      <td>Normal</td>\n",
       "      <td>181500</td>\n",
       "    </tr>\n",
       "    <tr>\n",
       "      <th>2</th>\n",
       "      <td>3</td>\n",
       "      <td>60</td>\n",
       "      <td>RL</td>\n",
       "      <td>68.0</td>\n",
       "      <td>11250</td>\n",
       "      <td>Pave</td>\n",
       "      <td>NaN</td>\n",
       "      <td>IR1</td>\n",
       "      <td>Lvl</td>\n",
       "      <td>AllPub</td>\n",
       "      <td>...</td>\n",
       "      <td>0</td>\n",
       "      <td>NaN</td>\n",
       "      <td>NaN</td>\n",
       "      <td>NaN</td>\n",
       "      <td>0</td>\n",
       "      <td>9</td>\n",
       "      <td>2008</td>\n",
       "      <td>WD</td>\n",
       "      <td>Normal</td>\n",
       "      <td>223500</td>\n",
       "    </tr>\n",
       "    <tr>\n",
       "      <th>3</th>\n",
       "      <td>4</td>\n",
       "      <td>70</td>\n",
       "      <td>RL</td>\n",
       "      <td>60.0</td>\n",
       "      <td>9550</td>\n",
       "      <td>Pave</td>\n",
       "      <td>NaN</td>\n",
       "      <td>IR1</td>\n",
       "      <td>Lvl</td>\n",
       "      <td>AllPub</td>\n",
       "      <td>...</td>\n",
       "      <td>0</td>\n",
       "      <td>NaN</td>\n",
       "      <td>NaN</td>\n",
       "      <td>NaN</td>\n",
       "      <td>0</td>\n",
       "      <td>2</td>\n",
       "      <td>2006</td>\n",
       "      <td>WD</td>\n",
       "      <td>Abnorml</td>\n",
       "      <td>140000</td>\n",
       "    </tr>\n",
       "    <tr>\n",
       "      <th>4</th>\n",
       "      <td>5</td>\n",
       "      <td>60</td>\n",
       "      <td>RL</td>\n",
       "      <td>84.0</td>\n",
       "      <td>14260</td>\n",
       "      <td>Pave</td>\n",
       "      <td>NaN</td>\n",
       "      <td>IR1</td>\n",
       "      <td>Lvl</td>\n",
       "      <td>AllPub</td>\n",
       "      <td>...</td>\n",
       "      <td>0</td>\n",
       "      <td>NaN</td>\n",
       "      <td>NaN</td>\n",
       "      <td>NaN</td>\n",
       "      <td>0</td>\n",
       "      <td>12</td>\n",
       "      <td>2008</td>\n",
       "      <td>WD</td>\n",
       "      <td>Normal</td>\n",
       "      <td>250000</td>\n",
       "    </tr>\n",
       "  </tbody>\n",
       "</table>\n",
       "<p>5 rows × 81 columns</p>\n",
       "</div>"
      ],
      "text/plain": [
       "   Id  MSSubClass MSZoning  LotFrontage  LotArea Street Alley LotShape  \\\n",
       "0   1          60       RL         65.0     8450   Pave   NaN      Reg   \n",
       "1   2          20       RL         80.0     9600   Pave   NaN      Reg   \n",
       "2   3          60       RL         68.0    11250   Pave   NaN      IR1   \n",
       "3   4          70       RL         60.0     9550   Pave   NaN      IR1   \n",
       "4   5          60       RL         84.0    14260   Pave   NaN      IR1   \n",
       "\n",
       "  LandContour Utilities  ... PoolArea PoolQC Fence MiscFeature MiscVal MoSold  \\\n",
       "0         Lvl    AllPub  ...        0    NaN   NaN         NaN       0      2   \n",
       "1         Lvl    AllPub  ...        0    NaN   NaN         NaN       0      5   \n",
       "2         Lvl    AllPub  ...        0    NaN   NaN         NaN       0      9   \n",
       "3         Lvl    AllPub  ...        0    NaN   NaN         NaN       0      2   \n",
       "4         Lvl    AllPub  ...        0    NaN   NaN         NaN       0     12   \n",
       "\n",
       "  YrSold  SaleType  SaleCondition  SalePrice  \n",
       "0   2008        WD         Normal     208500  \n",
       "1   2007        WD         Normal     181500  \n",
       "2   2008        WD         Normal     223500  \n",
       "3   2006        WD        Abnorml     140000  \n",
       "4   2008        WD         Normal     250000  \n",
       "\n",
       "[5 rows x 81 columns]"
      ]
     },
     "execution_count": 4,
     "metadata": {},
     "output_type": "execute_result"
    }
   ],
   "source": [
    "# Load datasets\n",
    "train_data = pd.read_csv(\"/kaggle/input/house-prices-advanced-regression-techniques/train.csv\")\n",
    "test_data = pd.read_csv(\"/kaggle/input/house-prices-advanced-regression-techniques/test.csv\")\n",
    "\n",
    "# Inspect the first few rows of the training dataset\n",
    "train_data.head()"
   ]
  },
  {
   "cell_type": "code",
   "execution_count": 5,
   "id": "139cebf1",
   "metadata": {
    "execution": {
     "iopub.execute_input": "2024-06-07T11:33:10.205961Z",
     "iopub.status.busy": "2024-06-07T11:33:10.205509Z",
     "iopub.status.idle": "2024-06-07T11:33:10.211716Z",
     "shell.execute_reply": "2024-06-07T11:33:10.210516Z"
    },
    "papermill": {
     "duration": 0.033678,
     "end_time": "2024-06-07T11:33:10.214347",
     "exception": false,
     "start_time": "2024-06-07T11:33:10.180669",
     "status": "completed"
    },
    "tags": []
   },
   "outputs": [
    {
     "name": "stdout",
     "output_type": "stream",
     "text": [
      "Size of train data is: (1460, 81) and test: (1459, 80)\n"
     ]
    }
   ],
   "source": [
    "# Inspect the first few rows of the training dataset\n",
    "print(f\"Size of train data is: {train_data.shape} and test: {test_data.shape}\")"
   ]
  },
  {
   "cell_type": "code",
   "execution_count": 6,
   "id": "2c563b67",
   "metadata": {
    "execution": {
     "iopub.execute_input": "2024-06-07T11:33:10.264149Z",
     "iopub.status.busy": "2024-06-07T11:33:10.263697Z",
     "iopub.status.idle": "2024-06-07T11:33:10.391825Z",
     "shell.execute_reply": "2024-06-07T11:33:10.388695Z"
    },
    "papermill": {
     "duration": 0.158626,
     "end_time": "2024-06-07T11:33:10.396254",
     "exception": false,
     "start_time": "2024-06-07T11:33:10.237628",
     "status": "completed"
    },
    "tags": []
   },
   "outputs": [
    {
     "data": {
      "text/html": [
       "<div>\n",
       "<style scoped>\n",
       "    .dataframe tbody tr th:only-of-type {\n",
       "        vertical-align: middle;\n",
       "    }\n",
       "\n",
       "    .dataframe tbody tr th {\n",
       "        vertical-align: top;\n",
       "    }\n",
       "\n",
       "    .dataframe thead th {\n",
       "        text-align: right;\n",
       "    }\n",
       "</style>\n",
       "<table border=\"1\" class=\"dataframe\">\n",
       "  <thead>\n",
       "    <tr style=\"text-align: right;\">\n",
       "      <th></th>\n",
       "      <th>Id</th>\n",
       "      <th>MSSubClass</th>\n",
       "      <th>LotFrontage</th>\n",
       "      <th>LotArea</th>\n",
       "      <th>OverallQual</th>\n",
       "      <th>OverallCond</th>\n",
       "      <th>YearBuilt</th>\n",
       "      <th>YearRemodAdd</th>\n",
       "      <th>MasVnrArea</th>\n",
       "      <th>BsmtFinSF1</th>\n",
       "      <th>...</th>\n",
       "      <th>WoodDeckSF</th>\n",
       "      <th>OpenPorchSF</th>\n",
       "      <th>EnclosedPorch</th>\n",
       "      <th>3SsnPorch</th>\n",
       "      <th>ScreenPorch</th>\n",
       "      <th>PoolArea</th>\n",
       "      <th>MiscVal</th>\n",
       "      <th>MoSold</th>\n",
       "      <th>YrSold</th>\n",
       "      <th>SalePrice</th>\n",
       "    </tr>\n",
       "  </thead>\n",
       "  <tbody>\n",
       "    <tr>\n",
       "      <th>count</th>\n",
       "      <td>1460.000000</td>\n",
       "      <td>1460.000000</td>\n",
       "      <td>1201.000000</td>\n",
       "      <td>1460.000000</td>\n",
       "      <td>1460.000000</td>\n",
       "      <td>1460.000000</td>\n",
       "      <td>1460.000000</td>\n",
       "      <td>1460.000000</td>\n",
       "      <td>1452.000000</td>\n",
       "      <td>1460.000000</td>\n",
       "      <td>...</td>\n",
       "      <td>1460.000000</td>\n",
       "      <td>1460.000000</td>\n",
       "      <td>1460.000000</td>\n",
       "      <td>1460.000000</td>\n",
       "      <td>1460.000000</td>\n",
       "      <td>1460.000000</td>\n",
       "      <td>1460.000000</td>\n",
       "      <td>1460.000000</td>\n",
       "      <td>1460.000000</td>\n",
       "      <td>1460.000000</td>\n",
       "    </tr>\n",
       "    <tr>\n",
       "      <th>mean</th>\n",
       "      <td>730.500000</td>\n",
       "      <td>56.897260</td>\n",
       "      <td>70.049958</td>\n",
       "      <td>10516.828082</td>\n",
       "      <td>6.099315</td>\n",
       "      <td>5.575342</td>\n",
       "      <td>1971.267808</td>\n",
       "      <td>1984.865753</td>\n",
       "      <td>103.685262</td>\n",
       "      <td>443.639726</td>\n",
       "      <td>...</td>\n",
       "      <td>94.244521</td>\n",
       "      <td>46.660274</td>\n",
       "      <td>21.954110</td>\n",
       "      <td>3.409589</td>\n",
       "      <td>15.060959</td>\n",
       "      <td>2.758904</td>\n",
       "      <td>43.489041</td>\n",
       "      <td>6.321918</td>\n",
       "      <td>2007.815753</td>\n",
       "      <td>180921.195890</td>\n",
       "    </tr>\n",
       "    <tr>\n",
       "      <th>std</th>\n",
       "      <td>421.610009</td>\n",
       "      <td>42.300571</td>\n",
       "      <td>24.284752</td>\n",
       "      <td>9981.264932</td>\n",
       "      <td>1.382997</td>\n",
       "      <td>1.112799</td>\n",
       "      <td>30.202904</td>\n",
       "      <td>20.645407</td>\n",
       "      <td>181.066207</td>\n",
       "      <td>456.098091</td>\n",
       "      <td>...</td>\n",
       "      <td>125.338794</td>\n",
       "      <td>66.256028</td>\n",
       "      <td>61.119149</td>\n",
       "      <td>29.317331</td>\n",
       "      <td>55.757415</td>\n",
       "      <td>40.177307</td>\n",
       "      <td>496.123024</td>\n",
       "      <td>2.703626</td>\n",
       "      <td>1.328095</td>\n",
       "      <td>79442.502883</td>\n",
       "    </tr>\n",
       "    <tr>\n",
       "      <th>min</th>\n",
       "      <td>1.000000</td>\n",
       "      <td>20.000000</td>\n",
       "      <td>21.000000</td>\n",
       "      <td>1300.000000</td>\n",
       "      <td>1.000000</td>\n",
       "      <td>1.000000</td>\n",
       "      <td>1872.000000</td>\n",
       "      <td>1950.000000</td>\n",
       "      <td>0.000000</td>\n",
       "      <td>0.000000</td>\n",
       "      <td>...</td>\n",
       "      <td>0.000000</td>\n",
       "      <td>0.000000</td>\n",
       "      <td>0.000000</td>\n",
       "      <td>0.000000</td>\n",
       "      <td>0.000000</td>\n",
       "      <td>0.000000</td>\n",
       "      <td>0.000000</td>\n",
       "      <td>1.000000</td>\n",
       "      <td>2006.000000</td>\n",
       "      <td>34900.000000</td>\n",
       "    </tr>\n",
       "    <tr>\n",
       "      <th>25%</th>\n",
       "      <td>365.750000</td>\n",
       "      <td>20.000000</td>\n",
       "      <td>59.000000</td>\n",
       "      <td>7553.500000</td>\n",
       "      <td>5.000000</td>\n",
       "      <td>5.000000</td>\n",
       "      <td>1954.000000</td>\n",
       "      <td>1967.000000</td>\n",
       "      <td>0.000000</td>\n",
       "      <td>0.000000</td>\n",
       "      <td>...</td>\n",
       "      <td>0.000000</td>\n",
       "      <td>0.000000</td>\n",
       "      <td>0.000000</td>\n",
       "      <td>0.000000</td>\n",
       "      <td>0.000000</td>\n",
       "      <td>0.000000</td>\n",
       "      <td>0.000000</td>\n",
       "      <td>5.000000</td>\n",
       "      <td>2007.000000</td>\n",
       "      <td>129975.000000</td>\n",
       "    </tr>\n",
       "    <tr>\n",
       "      <th>50%</th>\n",
       "      <td>730.500000</td>\n",
       "      <td>50.000000</td>\n",
       "      <td>69.000000</td>\n",
       "      <td>9478.500000</td>\n",
       "      <td>6.000000</td>\n",
       "      <td>5.000000</td>\n",
       "      <td>1973.000000</td>\n",
       "      <td>1994.000000</td>\n",
       "      <td>0.000000</td>\n",
       "      <td>383.500000</td>\n",
       "      <td>...</td>\n",
       "      <td>0.000000</td>\n",
       "      <td>25.000000</td>\n",
       "      <td>0.000000</td>\n",
       "      <td>0.000000</td>\n",
       "      <td>0.000000</td>\n",
       "      <td>0.000000</td>\n",
       "      <td>0.000000</td>\n",
       "      <td>6.000000</td>\n",
       "      <td>2008.000000</td>\n",
       "      <td>163000.000000</td>\n",
       "    </tr>\n",
       "    <tr>\n",
       "      <th>75%</th>\n",
       "      <td>1095.250000</td>\n",
       "      <td>70.000000</td>\n",
       "      <td>80.000000</td>\n",
       "      <td>11601.500000</td>\n",
       "      <td>7.000000</td>\n",
       "      <td>6.000000</td>\n",
       "      <td>2000.000000</td>\n",
       "      <td>2004.000000</td>\n",
       "      <td>166.000000</td>\n",
       "      <td>712.250000</td>\n",
       "      <td>...</td>\n",
       "      <td>168.000000</td>\n",
       "      <td>68.000000</td>\n",
       "      <td>0.000000</td>\n",
       "      <td>0.000000</td>\n",
       "      <td>0.000000</td>\n",
       "      <td>0.000000</td>\n",
       "      <td>0.000000</td>\n",
       "      <td>8.000000</td>\n",
       "      <td>2009.000000</td>\n",
       "      <td>214000.000000</td>\n",
       "    </tr>\n",
       "    <tr>\n",
       "      <th>max</th>\n",
       "      <td>1460.000000</td>\n",
       "      <td>190.000000</td>\n",
       "      <td>313.000000</td>\n",
       "      <td>215245.000000</td>\n",
       "      <td>10.000000</td>\n",
       "      <td>9.000000</td>\n",
       "      <td>2010.000000</td>\n",
       "      <td>2010.000000</td>\n",
       "      <td>1600.000000</td>\n",
       "      <td>5644.000000</td>\n",
       "      <td>...</td>\n",
       "      <td>857.000000</td>\n",
       "      <td>547.000000</td>\n",
       "      <td>552.000000</td>\n",
       "      <td>508.000000</td>\n",
       "      <td>480.000000</td>\n",
       "      <td>738.000000</td>\n",
       "      <td>15500.000000</td>\n",
       "      <td>12.000000</td>\n",
       "      <td>2010.000000</td>\n",
       "      <td>755000.000000</td>\n",
       "    </tr>\n",
       "  </tbody>\n",
       "</table>\n",
       "<p>8 rows × 38 columns</p>\n",
       "</div>"
      ],
      "text/plain": [
       "                Id   MSSubClass  LotFrontage        LotArea  OverallQual  \\\n",
       "count  1460.000000  1460.000000  1201.000000    1460.000000  1460.000000   \n",
       "mean    730.500000    56.897260    70.049958   10516.828082     6.099315   \n",
       "std     421.610009    42.300571    24.284752    9981.264932     1.382997   \n",
       "min       1.000000    20.000000    21.000000    1300.000000     1.000000   \n",
       "25%     365.750000    20.000000    59.000000    7553.500000     5.000000   \n",
       "50%     730.500000    50.000000    69.000000    9478.500000     6.000000   \n",
       "75%    1095.250000    70.000000    80.000000   11601.500000     7.000000   \n",
       "max    1460.000000   190.000000   313.000000  215245.000000    10.000000   \n",
       "\n",
       "       OverallCond    YearBuilt  YearRemodAdd   MasVnrArea   BsmtFinSF1  ...  \\\n",
       "count  1460.000000  1460.000000   1460.000000  1452.000000  1460.000000  ...   \n",
       "mean      5.575342  1971.267808   1984.865753   103.685262   443.639726  ...   \n",
       "std       1.112799    30.202904     20.645407   181.066207   456.098091  ...   \n",
       "min       1.000000  1872.000000   1950.000000     0.000000     0.000000  ...   \n",
       "25%       5.000000  1954.000000   1967.000000     0.000000     0.000000  ...   \n",
       "50%       5.000000  1973.000000   1994.000000     0.000000   383.500000  ...   \n",
       "75%       6.000000  2000.000000   2004.000000   166.000000   712.250000  ...   \n",
       "max       9.000000  2010.000000   2010.000000  1600.000000  5644.000000  ...   \n",
       "\n",
       "        WoodDeckSF  OpenPorchSF  EnclosedPorch    3SsnPorch  ScreenPorch  \\\n",
       "count  1460.000000  1460.000000    1460.000000  1460.000000  1460.000000   \n",
       "mean     94.244521    46.660274      21.954110     3.409589    15.060959   \n",
       "std     125.338794    66.256028      61.119149    29.317331    55.757415   \n",
       "min       0.000000     0.000000       0.000000     0.000000     0.000000   \n",
       "25%       0.000000     0.000000       0.000000     0.000000     0.000000   \n",
       "50%       0.000000    25.000000       0.000000     0.000000     0.000000   \n",
       "75%     168.000000    68.000000       0.000000     0.000000     0.000000   \n",
       "max     857.000000   547.000000     552.000000   508.000000   480.000000   \n",
       "\n",
       "          PoolArea       MiscVal       MoSold       YrSold      SalePrice  \n",
       "count  1460.000000   1460.000000  1460.000000  1460.000000    1460.000000  \n",
       "mean      2.758904     43.489041     6.321918  2007.815753  180921.195890  \n",
       "std      40.177307    496.123024     2.703626     1.328095   79442.502883  \n",
       "min       0.000000      0.000000     1.000000  2006.000000   34900.000000  \n",
       "25%       0.000000      0.000000     5.000000  2007.000000  129975.000000  \n",
       "50%       0.000000      0.000000     6.000000  2008.000000  163000.000000  \n",
       "75%       0.000000      0.000000     8.000000  2009.000000  214000.000000  \n",
       "max     738.000000  15500.000000    12.000000  2010.000000  755000.000000  \n",
       "\n",
       "[8 rows x 38 columns]"
      ]
     },
     "execution_count": 6,
     "metadata": {},
     "output_type": "execute_result"
    }
   ],
   "source": [
    "# Summary statistics of the training dataset\n",
    "train_data.describe()"
   ]
  },
  {
   "cell_type": "code",
   "execution_count": 7,
   "id": "c22f6680",
   "metadata": {
    "execution": {
     "iopub.execute_input": "2024-06-07T11:33:10.449912Z",
     "iopub.status.busy": "2024-06-07T11:33:10.449384Z",
     "iopub.status.idle": "2024-06-07T11:33:10.564496Z",
     "shell.execute_reply": "2024-06-07T11:33:10.562959Z"
    },
    "papermill": {
     "duration": 0.145451,
     "end_time": "2024-06-07T11:33:10.567510",
     "exception": false,
     "start_time": "2024-06-07T11:33:10.422059",
     "status": "completed"
    },
    "tags": []
   },
   "outputs": [
    {
     "data": {
      "text/html": [
       "<div>\n",
       "<style scoped>\n",
       "    .dataframe tbody tr th:only-of-type {\n",
       "        vertical-align: middle;\n",
       "    }\n",
       "\n",
       "    .dataframe tbody tr th {\n",
       "        vertical-align: top;\n",
       "    }\n",
       "\n",
       "    .dataframe thead th {\n",
       "        text-align: right;\n",
       "    }\n",
       "</style>\n",
       "<table border=\"1\" class=\"dataframe\">\n",
       "  <thead>\n",
       "    <tr style=\"text-align: right;\">\n",
       "      <th></th>\n",
       "      <th>MSZoning</th>\n",
       "      <th>Street</th>\n",
       "      <th>Alley</th>\n",
       "      <th>LotShape</th>\n",
       "      <th>LandContour</th>\n",
       "      <th>Utilities</th>\n",
       "      <th>LotConfig</th>\n",
       "      <th>LandSlope</th>\n",
       "      <th>Neighborhood</th>\n",
       "      <th>Condition1</th>\n",
       "      <th>...</th>\n",
       "      <th>GarageType</th>\n",
       "      <th>GarageFinish</th>\n",
       "      <th>GarageQual</th>\n",
       "      <th>GarageCond</th>\n",
       "      <th>PavedDrive</th>\n",
       "      <th>PoolQC</th>\n",
       "      <th>Fence</th>\n",
       "      <th>MiscFeature</th>\n",
       "      <th>SaleType</th>\n",
       "      <th>SaleCondition</th>\n",
       "    </tr>\n",
       "  </thead>\n",
       "  <tbody>\n",
       "    <tr>\n",
       "      <th>count</th>\n",
       "      <td>1460</td>\n",
       "      <td>1460</td>\n",
       "      <td>91</td>\n",
       "      <td>1460</td>\n",
       "      <td>1460</td>\n",
       "      <td>1460</td>\n",
       "      <td>1460</td>\n",
       "      <td>1460</td>\n",
       "      <td>1460</td>\n",
       "      <td>1460</td>\n",
       "      <td>...</td>\n",
       "      <td>1379</td>\n",
       "      <td>1379</td>\n",
       "      <td>1379</td>\n",
       "      <td>1379</td>\n",
       "      <td>1460</td>\n",
       "      <td>7</td>\n",
       "      <td>281</td>\n",
       "      <td>54</td>\n",
       "      <td>1460</td>\n",
       "      <td>1460</td>\n",
       "    </tr>\n",
       "    <tr>\n",
       "      <th>unique</th>\n",
       "      <td>5</td>\n",
       "      <td>2</td>\n",
       "      <td>2</td>\n",
       "      <td>4</td>\n",
       "      <td>4</td>\n",
       "      <td>2</td>\n",
       "      <td>5</td>\n",
       "      <td>3</td>\n",
       "      <td>25</td>\n",
       "      <td>9</td>\n",
       "      <td>...</td>\n",
       "      <td>6</td>\n",
       "      <td>3</td>\n",
       "      <td>5</td>\n",
       "      <td>5</td>\n",
       "      <td>3</td>\n",
       "      <td>3</td>\n",
       "      <td>4</td>\n",
       "      <td>4</td>\n",
       "      <td>9</td>\n",
       "      <td>6</td>\n",
       "    </tr>\n",
       "    <tr>\n",
       "      <th>top</th>\n",
       "      <td>RL</td>\n",
       "      <td>Pave</td>\n",
       "      <td>Grvl</td>\n",
       "      <td>Reg</td>\n",
       "      <td>Lvl</td>\n",
       "      <td>AllPub</td>\n",
       "      <td>Inside</td>\n",
       "      <td>Gtl</td>\n",
       "      <td>NAmes</td>\n",
       "      <td>Norm</td>\n",
       "      <td>...</td>\n",
       "      <td>Attchd</td>\n",
       "      <td>Unf</td>\n",
       "      <td>TA</td>\n",
       "      <td>TA</td>\n",
       "      <td>Y</td>\n",
       "      <td>Gd</td>\n",
       "      <td>MnPrv</td>\n",
       "      <td>Shed</td>\n",
       "      <td>WD</td>\n",
       "      <td>Normal</td>\n",
       "    </tr>\n",
       "    <tr>\n",
       "      <th>freq</th>\n",
       "      <td>1151</td>\n",
       "      <td>1454</td>\n",
       "      <td>50</td>\n",
       "      <td>925</td>\n",
       "      <td>1311</td>\n",
       "      <td>1459</td>\n",
       "      <td>1052</td>\n",
       "      <td>1382</td>\n",
       "      <td>225</td>\n",
       "      <td>1260</td>\n",
       "      <td>...</td>\n",
       "      <td>870</td>\n",
       "      <td>605</td>\n",
       "      <td>1311</td>\n",
       "      <td>1326</td>\n",
       "      <td>1340</td>\n",
       "      <td>3</td>\n",
       "      <td>157</td>\n",
       "      <td>49</td>\n",
       "      <td>1267</td>\n",
       "      <td>1198</td>\n",
       "    </tr>\n",
       "  </tbody>\n",
       "</table>\n",
       "<p>4 rows × 43 columns</p>\n",
       "</div>"
      ],
      "text/plain": [
       "       MSZoning Street Alley LotShape LandContour Utilities LotConfig  \\\n",
       "count      1460   1460    91     1460        1460      1460      1460   \n",
       "unique        5      2     2        4           4         2         5   \n",
       "top          RL   Pave  Grvl      Reg         Lvl    AllPub    Inside   \n",
       "freq       1151   1454    50      925        1311      1459      1052   \n",
       "\n",
       "       LandSlope Neighborhood Condition1  ... GarageType GarageFinish  \\\n",
       "count       1460         1460       1460  ...       1379         1379   \n",
       "unique         3           25          9  ...          6            3   \n",
       "top          Gtl        NAmes       Norm  ...     Attchd          Unf   \n",
       "freq        1382          225       1260  ...        870          605   \n",
       "\n",
       "       GarageQual GarageCond PavedDrive PoolQC  Fence MiscFeature SaleType  \\\n",
       "count        1379       1379       1460      7    281          54     1460   \n",
       "unique          5          5          3      3      4           4        9   \n",
       "top            TA         TA          Y     Gd  MnPrv        Shed       WD   \n",
       "freq         1311       1326       1340      3    157          49     1267   \n",
       "\n",
       "       SaleCondition  \n",
       "count           1460  \n",
       "unique             6  \n",
       "top           Normal  \n",
       "freq            1198  \n",
       "\n",
       "[4 rows x 43 columns]"
      ]
     },
     "execution_count": 7,
     "metadata": {},
     "output_type": "execute_result"
    }
   ],
   "source": [
    "# Summary statistics of the training dataset\n",
    "train_data.describe(include=['object'])"
   ]
  },
  {
   "cell_type": "code",
   "execution_count": 8,
   "id": "9375effb",
   "metadata": {
    "execution": {
     "iopub.execute_input": "2024-06-07T11:33:10.621196Z",
     "iopub.status.busy": "2024-06-07T11:33:10.620596Z",
     "iopub.status.idle": "2024-06-07T11:33:10.656859Z",
     "shell.execute_reply": "2024-06-07T11:33:10.655197Z"
    },
    "papermill": {
     "duration": 0.06821,
     "end_time": "2024-06-07T11:33:10.661070",
     "exception": false,
     "start_time": "2024-06-07T11:33:10.592860",
     "status": "completed"
    },
    "tags": []
   },
   "outputs": [
    {
     "name": "stdout",
     "output_type": "stream",
     "text": [
      "<class 'pandas.core.frame.DataFrame'>\n",
      "RangeIndex: 1460 entries, 0 to 1459\n",
      "Data columns (total 81 columns):\n",
      " #   Column         Non-Null Count  Dtype  \n",
      "---  ------         --------------  -----  \n",
      " 0   Id             1460 non-null   int64  \n",
      " 1   MSSubClass     1460 non-null   int64  \n",
      " 2   MSZoning       1460 non-null   object \n",
      " 3   LotFrontage    1201 non-null   float64\n",
      " 4   LotArea        1460 non-null   int64  \n",
      " 5   Street         1460 non-null   object \n",
      " 6   Alley          91 non-null     object \n",
      " 7   LotShape       1460 non-null   object \n",
      " 8   LandContour    1460 non-null   object \n",
      " 9   Utilities      1460 non-null   object \n",
      " 10  LotConfig      1460 non-null   object \n",
      " 11  LandSlope      1460 non-null   object \n",
      " 12  Neighborhood   1460 non-null   object \n",
      " 13  Condition1     1460 non-null   object \n",
      " 14  Condition2     1460 non-null   object \n",
      " 15  BldgType       1460 non-null   object \n",
      " 16  HouseStyle     1460 non-null   object \n",
      " 17  OverallQual    1460 non-null   int64  \n",
      " 18  OverallCond    1460 non-null   int64  \n",
      " 19  YearBuilt      1460 non-null   int64  \n",
      " 20  YearRemodAdd   1460 non-null   int64  \n",
      " 21  RoofStyle      1460 non-null   object \n",
      " 22  RoofMatl       1460 non-null   object \n",
      " 23  Exterior1st    1460 non-null   object \n",
      " 24  Exterior2nd    1460 non-null   object \n",
      " 25  MasVnrType     588 non-null    object \n",
      " 26  MasVnrArea     1452 non-null   float64\n",
      " 27  ExterQual      1460 non-null   object \n",
      " 28  ExterCond      1460 non-null   object \n",
      " 29  Foundation     1460 non-null   object \n",
      " 30  BsmtQual       1423 non-null   object \n",
      " 31  BsmtCond       1423 non-null   object \n",
      " 32  BsmtExposure   1422 non-null   object \n",
      " 33  BsmtFinType1   1423 non-null   object \n",
      " 34  BsmtFinSF1     1460 non-null   int64  \n",
      " 35  BsmtFinType2   1422 non-null   object \n",
      " 36  BsmtFinSF2     1460 non-null   int64  \n",
      " 37  BsmtUnfSF      1460 non-null   int64  \n",
      " 38  TotalBsmtSF    1460 non-null   int64  \n",
      " 39  Heating        1460 non-null   object \n",
      " 40  HeatingQC      1460 non-null   object \n",
      " 41  CentralAir     1460 non-null   object \n",
      " 42  Electrical     1459 non-null   object \n",
      " 43  1stFlrSF       1460 non-null   int64  \n",
      " 44  2ndFlrSF       1460 non-null   int64  \n",
      " 45  LowQualFinSF   1460 non-null   int64  \n",
      " 46  GrLivArea      1460 non-null   int64  \n",
      " 47  BsmtFullBath   1460 non-null   int64  \n",
      " 48  BsmtHalfBath   1460 non-null   int64  \n",
      " 49  FullBath       1460 non-null   int64  \n",
      " 50  HalfBath       1460 non-null   int64  \n",
      " 51  BedroomAbvGr   1460 non-null   int64  \n",
      " 52  KitchenAbvGr   1460 non-null   int64  \n",
      " 53  KitchenQual    1460 non-null   object \n",
      " 54  TotRmsAbvGrd   1460 non-null   int64  \n",
      " 55  Functional     1460 non-null   object \n",
      " 56  Fireplaces     1460 non-null   int64  \n",
      " 57  FireplaceQu    770 non-null    object \n",
      " 58  GarageType     1379 non-null   object \n",
      " 59  GarageYrBlt    1379 non-null   float64\n",
      " 60  GarageFinish   1379 non-null   object \n",
      " 61  GarageCars     1460 non-null   int64  \n",
      " 62  GarageArea     1460 non-null   int64  \n",
      " 63  GarageQual     1379 non-null   object \n",
      " 64  GarageCond     1379 non-null   object \n",
      " 65  PavedDrive     1460 non-null   object \n",
      " 66  WoodDeckSF     1460 non-null   int64  \n",
      " 67  OpenPorchSF    1460 non-null   int64  \n",
      " 68  EnclosedPorch  1460 non-null   int64  \n",
      " 69  3SsnPorch      1460 non-null   int64  \n",
      " 70  ScreenPorch    1460 non-null   int64  \n",
      " 71  PoolArea       1460 non-null   int64  \n",
      " 72  PoolQC         7 non-null      object \n",
      " 73  Fence          281 non-null    object \n",
      " 74  MiscFeature    54 non-null     object \n",
      " 75  MiscVal        1460 non-null   int64  \n",
      " 76  MoSold         1460 non-null   int64  \n",
      " 77  YrSold         1460 non-null   int64  \n",
      " 78  SaleType       1460 non-null   object \n",
      " 79  SaleCondition  1460 non-null   object \n",
      " 80  SalePrice      1460 non-null   int64  \n",
      "dtypes: float64(3), int64(35), object(43)\n",
      "memory usage: 924.0+ KB\n"
     ]
    }
   ],
   "source": [
    "train_data.info()"
   ]
  },
  {
   "cell_type": "markdown",
   "id": "0b976e6f",
   "metadata": {
    "papermill": {
     "duration": 0.026659,
     "end_time": "2024-06-07T11:33:10.713218",
     "exception": false,
     "start_time": "2024-06-07T11:33:10.686559",
     "status": "completed"
    },
    "tags": []
   },
   "source": [
    "## FEATURE ENGENEERING\n",
    "\n",
    "Add a feature that states for extraoridinary equipment "
   ]
  },
  {
   "cell_type": "code",
   "execution_count": 9,
   "id": "8c6fb1ac",
   "metadata": {
    "execution": {
     "iopub.execute_input": "2024-06-07T11:33:10.767000Z",
     "iopub.status.busy": "2024-06-07T11:33:10.766541Z",
     "iopub.status.idle": "2024-06-07T11:33:10.812813Z",
     "shell.execute_reply": "2024-06-07T11:33:10.811356Z"
    },
    "papermill": {
     "duration": 0.075729,
     "end_time": "2024-06-07T11:33:10.816264",
     "exception": false,
     "start_time": "2024-06-07T11:33:10.740535",
     "status": "completed"
    },
    "tags": []
   },
   "outputs": [
    {
     "data": {
      "text/html": [
       "<div>\n",
       "<style scoped>\n",
       "    .dataframe tbody tr th:only-of-type {\n",
       "        vertical-align: middle;\n",
       "    }\n",
       "\n",
       "    .dataframe tbody tr th {\n",
       "        vertical-align: top;\n",
       "    }\n",
       "\n",
       "    .dataframe thead th {\n",
       "        text-align: right;\n",
       "    }\n",
       "</style>\n",
       "<table border=\"1\" class=\"dataframe\">\n",
       "  <thead>\n",
       "    <tr style=\"text-align: right;\">\n",
       "      <th></th>\n",
       "      <th>PoolArea</th>\n",
       "      <th>WoodDeckSF</th>\n",
       "      <th>OpenPorchSF</th>\n",
       "      <th>EnclosedPorch</th>\n",
       "      <th>3SsnPorch</th>\n",
       "      <th>ScreenPorch</th>\n",
       "      <th>Fireplaces</th>\n",
       "      <th>extraordinary</th>\n",
       "    </tr>\n",
       "  </thead>\n",
       "  <tbody>\n",
       "    <tr>\n",
       "      <th>0</th>\n",
       "      <td>0</td>\n",
       "      <td>0</td>\n",
       "      <td>61</td>\n",
       "      <td>0</td>\n",
       "      <td>0</td>\n",
       "      <td>0</td>\n",
       "      <td>0</td>\n",
       "      <td>1</td>\n",
       "    </tr>\n",
       "    <tr>\n",
       "      <th>1</th>\n",
       "      <td>0</td>\n",
       "      <td>298</td>\n",
       "      <td>0</td>\n",
       "      <td>0</td>\n",
       "      <td>0</td>\n",
       "      <td>0</td>\n",
       "      <td>1</td>\n",
       "      <td>2</td>\n",
       "    </tr>\n",
       "    <tr>\n",
       "      <th>2</th>\n",
       "      <td>0</td>\n",
       "      <td>0</td>\n",
       "      <td>42</td>\n",
       "      <td>0</td>\n",
       "      <td>0</td>\n",
       "      <td>0</td>\n",
       "      <td>1</td>\n",
       "      <td>2</td>\n",
       "    </tr>\n",
       "    <tr>\n",
       "      <th>3</th>\n",
       "      <td>0</td>\n",
       "      <td>0</td>\n",
       "      <td>35</td>\n",
       "      <td>272</td>\n",
       "      <td>0</td>\n",
       "      <td>0</td>\n",
       "      <td>1</td>\n",
       "      <td>3</td>\n",
       "    </tr>\n",
       "    <tr>\n",
       "      <th>4</th>\n",
       "      <td>0</td>\n",
       "      <td>192</td>\n",
       "      <td>84</td>\n",
       "      <td>0</td>\n",
       "      <td>0</td>\n",
       "      <td>0</td>\n",
       "      <td>1</td>\n",
       "      <td>3</td>\n",
       "    </tr>\n",
       "  </tbody>\n",
       "</table>\n",
       "</div>"
      ],
      "text/plain": [
       "   PoolArea  WoodDeckSF  OpenPorchSF  EnclosedPorch  3SsnPorch  ScreenPorch  \\\n",
       "0         0           0           61              0          0            0   \n",
       "1         0         298            0              0          0            0   \n",
       "2         0           0           42              0          0            0   \n",
       "3         0           0           35            272          0            0   \n",
       "4         0         192           84              0          0            0   \n",
       "\n",
       "   Fireplaces  extraordinary  \n",
       "0           0              1  \n",
       "1           1              2  \n",
       "2           1              2  \n",
       "3           1              3  \n",
       "4           1              3  "
      ]
     },
     "execution_count": 9,
     "metadata": {},
     "output_type": "execute_result"
    }
   ],
   "source": [
    "# Define criteria for extraordinary features\n",
    "extraordinary_features = ['PoolArea', 'WoodDeckSF', 'OpenPorchSF', 'EnclosedPorch', '3SsnPorch', 'ScreenPorch', 'Fireplaces']\n",
    "\n",
    "# Create luxury_addon variable based on the presence of extraordinary features\n",
    "\n",
    "datasets = [train_data, test_data]\n",
    "\n",
    "for dataset in datasets:\n",
    "    dataset['extraordinary'] = 0  # Initialize with 0\n",
    "    dataset.loc[dataset['PoolArea'] > 0, 'extraordinary'] += 1  # Add 1 if PoolArea > 0\n",
    "    dataset.loc[dataset['WoodDeckSF'] > 0, 'extraordinary'] += 1  # Add 1 if WoodDeckSF > 0\n",
    "    dataset.loc[dataset['OpenPorchSF'] > 0, 'extraordinary'] += 1  # Add 1 if OpenPorchSF > 0\n",
    "    dataset.loc[dataset['EnclosedPorch'] > 0, 'extraordinary'] += 1  # Add 1 if EnclosedPorch > 0\n",
    "    dataset.loc[dataset['3SsnPorch'] > 0, 'extraordinary'] += 1  # Add 1 if 3SsnPorch > 0\n",
    "    dataset.loc[dataset['ScreenPorch'] > 0, 'extraordinary'] += 1  # Add 1 if ScreenPorch > 0\n",
    "    dataset.loc[dataset['Fireplaces'] > 0, 'extraordinary'] += 1  # Add 1 if Fireplaces > 0\n",
    "\n",
    "# Print the first few rows to verify\n",
    "train_data[['PoolArea', 'WoodDeckSF', 'OpenPorchSF', 'EnclosedPorch', '3SsnPorch', 'ScreenPorch', 'Fireplaces', 'extraordinary']].head()"
   ]
  },
  {
   "cell_type": "markdown",
   "id": "ed7b3779",
   "metadata": {
    "papermill": {
     "duration": 0.02464,
     "end_time": "2024-06-07T11:33:10.868358",
     "exception": false,
     "start_time": "2024-06-07T11:33:10.843718",
     "status": "completed"
    },
    "tags": []
   },
   "source": []
  },
  {
   "cell_type": "markdown",
   "id": "93274672",
   "metadata": {
    "papermill": {
     "duration": 0.024254,
     "end_time": "2024-06-07T11:33:10.922137",
     "exception": false,
     "start_time": "2024-06-07T11:33:10.897883",
     "status": "completed"
    },
    "tags": []
   },
   "source": [
    "# EDA"
   ]
  },
  {
   "cell_type": "markdown",
   "id": "84c9430b",
   "metadata": {
    "papermill": {
     "duration": 0.023946,
     "end_time": "2024-06-07T11:33:10.972007",
     "exception": false,
     "start_time": "2024-06-07T11:33:10.948061",
     "status": "completed"
    },
    "tags": []
   },
   "source": [
    "## FEATURES SELECTION\n",
    "\n",
    "Housing dataset contains a wide set of features, which is hard to track at the beginning. Thus, selection of important features for sale pricing prediction will be made in the first step. There are several methods to reduce the feature number:\n",
    "\n",
    "* **Correlation Matrix and Low Variance**: Remove redundant and irrelevant features.\n",
    "* **RFE and Feature Importance**: Select the most important features using model-based methods.\n",
    "* **PCA**: Transform features into principal components that capture the maximum variance"
   ]
  },
  {
   "cell_type": "markdown",
   "id": "0d437461",
   "metadata": {
    "papermill": {
     "duration": 0.024986,
     "end_time": "2024-06-07T11:33:11.020558",
     "exception": false,
     "start_time": "2024-06-07T11:33:10.995572",
     "status": "completed"
    },
    "tags": []
   },
   "source": [
    "### Remove highly correlated features and low variance numerical features"
   ]
  },
  {
   "cell_type": "markdown",
   "id": "5198cf0c",
   "metadata": {
    "execution": {
     "iopub.execute_input": "2024-05-30T11:43:52.241497Z",
     "iopub.status.busy": "2024-05-30T11:43:52.241091Z",
     "iopub.status.idle": "2024-05-30T11:43:52.251990Z",
     "shell.execute_reply": "2024-05-30T11:43:52.250348Z",
     "shell.execute_reply.started": "2024-05-30T11:43:52.241464Z"
    },
    "papermill": {
     "duration": 0.022427,
     "end_time": "2024-06-07T11:33:11.067935",
     "exception": false,
     "start_time": "2024-06-07T11:33:11.045508",
     "status": "completed"
    },
    "tags": []
   },
   "source": [
    "There are various techniques for feature selection and libraries to make so. Here are some of them:\n",
    "\n",
    "1. scikit-learn\n",
    "\n",
    "    1. **Filter Methods**: These methods select features based on their statistical properties, such as correlation with the target variable or their variance. Examples include:\n",
    "\n",
    "        * SelectKBest: Selects the top k features based on univariate statistical tests.\n",
    "        * SelectPercentile: Selects features based on a percentile of the highest scoring features.\n",
    "        * VarianceThreshold: Removes features with low variance.\n",
    "\n",
    "    2. **Wrapper Methods**: These methods evaluate the performance of different subsets of features using a predictive model. Examples include:\n",
    "\n",
    "        * Recursive Feature Elimination (RFE): Iteratively removes the weakest feature(s) until the desired number of features is reached.\n",
    "        * Recursive Feature Addition (RFA): Iteratively adds the most important feature(s) until the desired number of features is reached.\n",
    "\n",
    "    3. **Embedded Methods**: (pentltization) These methods integrate feature selection into the model training process. Examples include:\n",
    "\n",
    "        * Lasso (L1) regularization: Penalizes the absolute size of the coefficients, forcing some of them to be exactly zero.\n",
    "        * Decision Trees: Some tree-based models like Random Forests or Gradient Boosted Trees have built-in feature importance measures.\n",
    "    \n",
    "    4. **SelectFromModel**: Selects features based on the importance weights of a model (e.g., coefficients of a linear model or feature importances of a tree-based model).\n",
    "\n",
    "2. feature-engine\n",
    "    \n",
    "   Feature-engine is a library for feature engineering and selection that integrates well with scikit-learn.\n",
    "\n",
    "3. mlxtend\n",
    "\n",
    "    mlxtend (Machine Learning Extensions) is a library that provides additional tools and extensions for data analysis and machine learning, including feature selection methods.\n",
    "\n",
    "4. dmba\n",
    "    \n",
    "    The dmba package, which stands for \"Data Mining for Business Analytics,\" is a Python library that provides tools for teaching and learning data mining and business analytics. It is designed to accompany the textbook \"Data Mining for Business Analytics,\" authored by Galit Shmueli, Peter C. Bruce, Peter Gedeck, and Nitin R. Patel. The package offers a variety of utilities and functions that are particularly useful for educational purposes and practical applications in business analytics.\n",
    "\n",
    "   * **Stepwise Regression**\n",
    "\n",
    "    It is particularly useful when there are many potential predictors and you want to find a subset that best explains the variation in the response variable. The process can either be a:\n",
    "        * forward selection,\n",
    "        * backward elimination\n",
    "        * stepwise elimination - combination of both (bidirectional elimination).\n",
    "\n",
    "   > Criteria for Adding or Removing Variables:\n",
    "            * AIC (Akaike Information Criterion): A measure of the relative quality of a statistical model for a given set of data.\n",
    "            * BIC (Bayesian Information Criterion): Similar to AIC, but includes a penalty for the number of parameters in the model.\n",
    "            * p-values: In hypothesis testing, variables are often added or removed based on the statistical significance of their coefficients.\n",
    "\n",
    "    \n",
    "In this code some of them will be tested, starting from sci-kit learn and dbma. \n",
    "Let make VarianceThreshold and remove highly correlated features:"
   ]
  },
  {
   "cell_type": "code",
   "execution_count": 10,
   "id": "dbae8d3c",
   "metadata": {
    "execution": {
     "iopub.execute_input": "2024-06-07T11:33:11.119357Z",
     "iopub.status.busy": "2024-06-07T11:33:11.118914Z",
     "iopub.status.idle": "2024-06-07T11:33:11.215155Z",
     "shell.execute_reply": "2024-06-07T11:33:11.213952Z"
    },
    "papermill": {
     "duration": 0.126481,
     "end_time": "2024-06-07T11:33:11.218655",
     "exception": false,
     "start_time": "2024-06-07T11:33:11.092174",
     "status": "completed"
    },
    "tags": []
   },
   "outputs": [
    {
     "name": "stdout",
     "output_type": "stream",
     "text": [
      "1stFlrSF and TotalBsmtSF are highly correlated. Second removed\n",
      "TotRmsAbvGrd and GrLivArea are highly correlated. Second removed\n",
      "GarageYrBlt and YearBuilt are highly correlated. Second removed\n",
      "GarageArea and GarageCars are highly correlated. Second removed\n",
      "\n",
      "\n",
      "\n",
      "{'GrLivArea', 'GarageCars', 'YearBuilt', 'TotalBsmtSF'}\n",
      "Remaining columns after removing low variance and highly correlated features:\n",
      "Index(['Id', 'MSSubClass', 'LotFrontage', 'LotArea', 'OverallQual',\n",
      "       'OverallCond', 'YearRemodAdd', 'MasVnrArea', 'BsmtFinSF1', 'BsmtFinSF2',\n",
      "       'BsmtUnfSF', '1stFlrSF', '2ndFlrSF', 'LowQualFinSF', 'BsmtFullBath',\n",
      "       'FullBath', 'HalfBath', 'BedroomAbvGr', 'TotRmsAbvGrd', 'Fireplaces',\n",
      "       'GarageYrBlt', 'GarageArea', 'WoodDeckSF', 'OpenPorchSF',\n",
      "       'EnclosedPorch', '3SsnPorch', 'ScreenPorch', 'PoolArea', 'MiscVal',\n",
      "       'MoSold', 'YrSold', 'SalePrice', 'extraordinary'],\n",
      "      dtype='object')\n"
     ]
    }
   ],
   "source": [
    "from sklearn.feature_selection import VarianceThreshold\n",
    "\n",
    "# Select numeric columns\n",
    "numeric_columns = train_data.select_dtypes(include=['int64', 'float64']).columns\n",
    "categorical_columns = train_data.select_dtypes(include=['object']).columns\n",
    "\n",
    "# Convert data types to float (if necessary)\n",
    "train_data[numeric_columns] = train_data[numeric_columns].apply(pd.to_numeric, errors='coerce')\n",
    "\n",
    "# Remove features with low variance\n",
    "selector = VarianceThreshold(threshold=0.1)  # Adjust threshold as needed\n",
    "train_data_high_variance = selector.fit_transform(train_data[numeric_columns])\n",
    "\n",
    "# Get the names of the remaining features\n",
    "high_variance_columns = numeric_columns[selector.get_support()]\n",
    "\n",
    "# Convert back to DataFrame\n",
    "train_data_high_variance_df = pd.DataFrame(train_data_high_variance, columns=high_variance_columns)\n",
    "\n",
    "# Calculate the correlation matrix\n",
    "correlation_matrix = train_data_high_variance_df.corr()\n",
    "\n",
    "# Identify highly correlated features\n",
    "high_corr_threshold = 0.8\n",
    "high_corr_pairs = set()\n",
    "\n",
    "for i in range(len(correlation_matrix.columns)):\n",
    "    for j in range(i):\n",
    "        if abs(correlation_matrix.iloc[i, j]) > high_corr_threshold:\n",
    "            colname_i = correlation_matrix.columns[i]\n",
    "            colname_j = correlation_matrix.columns[j]\n",
    "            print(f\"{colname_i} and {colname_j} are highly correlated. Second removed\")\n",
    "            if colname_i not in high_corr_pairs:\n",
    "                high_corr_pairs.add(colname_j)\n",
    "               \n",
    "            \n",
    "print(\"\\n\\n\")    \n",
    "print(high_corr_pairs)\n",
    "\n",
    "# Remove highly correlated features\n",
    "train_data_preproc = train_data_high_variance_df.drop(columns=high_corr_pairs)\n",
    "\n",
    "# Print the remaining columns\n",
    "print(\"Remaining columns after removing low variance and highly correlated features:\")\n",
    "print(train_data_preproc.columns)     "
   ]
  },
  {
   "cell_type": "code",
   "execution_count": 11,
   "id": "d8fc2470",
   "metadata": {
    "execution": {
     "iopub.execute_input": "2024-06-07T11:33:11.270700Z",
     "iopub.status.busy": "2024-06-07T11:33:11.270308Z",
     "iopub.status.idle": "2024-06-07T11:33:11.282330Z",
     "shell.execute_reply": "2024-06-07T11:33:11.280866Z"
    },
    "papermill": {
     "duration": 0.040882,
     "end_time": "2024-06-07T11:33:11.285249",
     "exception": false,
     "start_time": "2024-06-07T11:33:11.244367",
     "status": "completed"
    },
    "tags": []
   },
   "outputs": [],
   "source": [
    "train_data_preproc = train_data_preproc.join(train_data[categorical_columns])"
   ]
  },
  {
   "cell_type": "code",
   "execution_count": 12,
   "id": "108515e6",
   "metadata": {
    "execution": {
     "iopub.execute_input": "2024-06-07T11:33:11.335224Z",
     "iopub.status.busy": "2024-06-07T11:33:11.334734Z",
     "iopub.status.idle": "2024-06-07T11:33:11.343877Z",
     "shell.execute_reply": "2024-06-07T11:33:11.342769Z"
    },
    "papermill": {
     "duration": 0.037285,
     "end_time": "2024-06-07T11:33:11.346491",
     "exception": false,
     "start_time": "2024-06-07T11:33:11.309206",
     "status": "completed"
    },
    "tags": []
   },
   "outputs": [
    {
     "data": {
      "text/plain": [
       "Index(['Id', 'MSSubClass', 'LotFrontage', 'LotArea', 'OverallQual',\n",
       "       'OverallCond', 'YearRemodAdd', 'MasVnrArea', 'BsmtFinSF1', 'BsmtFinSF2',\n",
       "       'BsmtUnfSF', '1stFlrSF', '2ndFlrSF', 'LowQualFinSF', 'BsmtFullBath',\n",
       "       'FullBath', 'HalfBath', 'BedroomAbvGr', 'TotRmsAbvGrd', 'Fireplaces',\n",
       "       'GarageYrBlt', 'GarageArea', 'WoodDeckSF', 'OpenPorchSF',\n",
       "       'EnclosedPorch', '3SsnPorch', 'ScreenPorch', 'PoolArea', 'MiscVal',\n",
       "       'MoSold', 'YrSold', 'SalePrice', 'extraordinary', 'MSZoning', 'Street',\n",
       "       'Alley', 'LotShape', 'LandContour', 'Utilities', 'LotConfig',\n",
       "       'LandSlope', 'Neighborhood', 'Condition1', 'Condition2', 'BldgType',\n",
       "       'HouseStyle', 'RoofStyle', 'RoofMatl', 'Exterior1st', 'Exterior2nd',\n",
       "       'MasVnrType', 'ExterQual', 'ExterCond', 'Foundation', 'BsmtQual',\n",
       "       'BsmtCond', 'BsmtExposure', 'BsmtFinType1', 'BsmtFinType2', 'Heating',\n",
       "       'HeatingQC', 'CentralAir', 'Electrical', 'KitchenQual', 'Functional',\n",
       "       'FireplaceQu', 'GarageType', 'GarageFinish', 'GarageQual', 'GarageCond',\n",
       "       'PavedDrive', 'PoolQC', 'Fence', 'MiscFeature', 'SaleType',\n",
       "       'SaleCondition'],\n",
       "      dtype='object')"
      ]
     },
     "execution_count": 12,
     "metadata": {},
     "output_type": "execute_result"
    }
   ],
   "source": [
    "train_data_preproc.columns"
   ]
  },
  {
   "cell_type": "code",
   "execution_count": 13,
   "id": "db895b7a",
   "metadata": {
    "execution": {
     "iopub.execute_input": "2024-06-07T11:33:11.402074Z",
     "iopub.status.busy": "2024-06-07T11:33:11.401660Z",
     "iopub.status.idle": "2024-06-07T11:33:11.420305Z",
     "shell.execute_reply": "2024-06-07T11:33:11.418627Z"
    },
    "papermill": {
     "duration": 0.050502,
     "end_time": "2024-06-07T11:33:11.423791",
     "exception": false,
     "start_time": "2024-06-07T11:33:11.373289",
     "status": "completed"
    },
    "tags": []
   },
   "outputs": [],
   "source": [
    "from matplotlib.colors import LinearSegmentedColormap\n",
    "\n",
    "make_plots = 0\n",
    "\n",
    "colors = [(1, 1, 1),  (0,0.0,0.8) ]  # White to blue\n",
    "cmap = LinearSegmentedColormap.from_list('custom_cmap', colors)\n",
    "\n",
    "if(make_plots):\n",
    "    # Scatter plots between numerical variables and 'SalePrice'\n",
    "    numerical_columns = train_data_preproc.select_dtypes(include=['int64', 'float64']).columns\n",
    "    num_cols_count = len(numerical_columns)\n",
    "    num_plots_per_row = 4\n",
    "    num_rows = (num_cols_count + num_plots_per_row - 1) // num_plots_per_row\n",
    "\n",
    "    hex_list = ['LotFrontage','LotArea','YearRemodAdd',\"MasVnrArea\",'BsmtUnfSF', 'BsmtFinSF1','1stFlrSF', '2ndFlrSF',  'GarageYrBlt', 'GarageArea', 'WoodDeckSF', 'OpenPorchSF' ]\n",
    "\n",
    "    plt.figure(figsize=(num_plots_per_row * 4, num_rows * 4))\n",
    "    for i, col in enumerate(numerical_columns):\n",
    "        plt.subplot(num_rows, num_plots_per_row, i + 1)\n",
    "        if(col in hex_list):\n",
    "            plt.hexbin(x=train_data_preproc[col], y=train_data_preproc['SalePrice'], gridsize=25, cmap=cmap)\n",
    "            plt.gca().set_facecolor('white')  # Set background color to white\n",
    "            plt.colorbar(label='count')\n",
    "            plt.ylabel('SalePrice')\n",
    "\n",
    "        else:\n",
    "            sns.scatterplot(x=col, y='SalePrice', data=train_data_preproc)\n",
    "            plt.ylabel('SalePrice')\n",
    "\n",
    "    plt.tight_layout()\n",
    "    plt.show()\n",
    "\n",
    "    # Box plots for categorical variables\n",
    "    categorical_columns = train_data_preproc.select_dtypes(include=['object']).columns\n",
    "    cat_cols_count = len(categorical_columns)\n",
    "    num_rows_cat = (cat_cols_count + num_plots_per_row - 1) // num_plots_per_row\n",
    "\n",
    "    plt.figure(figsize=(num_plots_per_row * 4, num_rows_cat * 4))\n",
    "    for i, col in enumerate(categorical_columns):\n",
    "        plt.subplot(num_rows_cat, num_plots_per_row, i + 1)\n",
    "        sns.boxplot(x=col, y='SalePrice', data=train_data_preproc)\n",
    "\n",
    "    plt.tight_layout()\n",
    "    plt.show()"
   ]
  },
  {
   "cell_type": "markdown",
   "id": "eff396fe",
   "metadata": {
    "papermill": {
     "duration": 0.024989,
     "end_time": "2024-06-07T11:33:11.546364",
     "exception": false,
     "start_time": "2024-06-07T11:33:11.521375",
     "status": "completed"
    },
    "tags": []
   },
   "source": [
    "See if new feature shows SalePrice correlation:"
   ]
  },
  {
   "cell_type": "code",
   "execution_count": 14,
   "id": "99963b1e",
   "metadata": {
    "execution": {
     "iopub.execute_input": "2024-06-07T11:33:11.597291Z",
     "iopub.status.busy": "2024-06-07T11:33:11.596851Z",
     "iopub.status.idle": "2024-06-07T11:33:12.003762Z",
     "shell.execute_reply": "2024-06-07T11:33:12.002104Z"
    },
    "papermill": {
     "duration": 0.437088,
     "end_time": "2024-06-07T11:33:12.007167",
     "exception": false,
     "start_time": "2024-06-07T11:33:11.570079",
     "status": "completed"
    },
    "tags": []
   },
   "outputs": [
    {
     "data": {
      "text/plain": [
       "<Axes: xlabel='extraordinary', ylabel='SalePrice'>"
      ]
     },
     "execution_count": 14,
     "metadata": {},
     "output_type": "execute_result"
    },
    {
     "data": {
      "image/png": "[encoded data removed]",
      "text/plain": [
       "<Figure size 640x480 with 1 Axes>"
      ]
     },
     "metadata": {},
     "output_type": "display_data"
    }
   ],
   "source": [
    "sns.boxplot(x='extraordinary', y='SalePrice', data=train_data_preproc)"
   ]
  },
  {
   "cell_type": "code",
   "execution_count": null,
   "id": "59f18a37",
   "metadata": {
    "papermill": {
     "duration": 0.026746,
     "end_time": "2024-06-07T11:33:12.058806",
     "exception": false,
     "start_time": "2024-06-07T11:33:12.032060",
     "status": "completed"
    },
    "tags": []
   },
   "outputs": [],
   "source": []
  },
  {
   "cell_type": "markdown",
   "id": "a4b490d7",
   "metadata": {
    "papermill": {
     "duration": 0.025662,
     "end_time": "2024-06-07T11:33:12.109466",
     "exception": false,
     "start_time": "2024-06-07T11:33:12.083804",
     "status": "completed"
    },
    "tags": []
   },
   "source": [
    "Even after removing low variance and highly correlated features, there is a lot of features that have an impact on SalePrices. Since it is hard to make a conculsions using such a big data bunch, first of all select the most important features. For this:\n",
    "\n",
    "1. HANDLE MISSING VALUES\n",
    "\n",
    "Replace numerical missing values with mean and categorical with mode using SimpleImputer\n",
    "\n",
    "2. ENCODE NUMERICAL DATA\n",
    "\n",
    "Make OneHotEncoding for binary features and LabelEncoding for the rest\n",
    "\n",
    "3. FIND IMPORTANT FEATURES\n",
    "\n",
    "Find mostly correlated features with Sale Prices using correlation coef. \n",
    "\n",
    "Perform RFE using RandomForestRegressor\n",
    "\n",
    "Unite output of previous steps into selected feature list."
   ]
  },
  {
   "cell_type": "markdown",
   "id": "bb26f822",
   "metadata": {
    "papermill": {
     "duration": 0.026507,
     "end_time": "2024-06-07T11:33:12.163111",
     "exception": false,
     "start_time": "2024-06-07T11:33:12.136604",
     "status": "completed"
    },
    "tags": []
   },
   "source": [
    "### HANDLE MISSING VALUES"
   ]
  },
  {
   "cell_type": "code",
   "execution_count": 15,
   "id": "ce2161af",
   "metadata": {
    "execution": {
     "iopub.execute_input": "2024-06-07T11:33:12.220063Z",
     "iopub.status.busy": "2024-06-07T11:33:12.219549Z",
     "iopub.status.idle": "2024-06-07T11:33:13.525132Z",
     "shell.execute_reply": "2024-06-07T11:33:13.523535Z"
    },
    "papermill": {
     "duration": 1.339251,
     "end_time": "2024-06-07T11:33:13.527775",
     "exception": false,
     "start_time": "2024-06-07T11:33:12.188524",
     "status": "completed"
    },
    "tags": []
   },
   "outputs": [
    {
     "data": {
      "image/png": "[encoded data removed]",
      "text/plain": [
       "<Figure size 1600x600 with 2 Axes>"
      ]
     },
     "metadata": {},
     "output_type": "display_data"
    }
   ],
   "source": [
    "# Calculate the number of missing values for each column in train data\n",
    "train_missing_values = train_data.isnull().sum()\n",
    "train_missing_columns = train_missing_values[train_missing_values > 0]\n",
    "\n",
    "# Calculate the number of missing values for each column in test data\n",
    "test_missing_values = test_data.isnull().sum()\n",
    "test_missing_columns = test_missing_values[test_missing_values > 0]\n",
    "\n",
    "# Create a figure with two subplots\n",
    "fig, ax = plt.subplots(1, 2, figsize=(16, 6), sharey=True)\n",
    "\n",
    "# Plot for the training data\n",
    "sns.barplot(x=train_missing_columns.index, y=train_missing_columns.values, ax=ax[0])\n",
    "ax[0].set_title('Missing Values in Training Data')\n",
    "ax[0].set_xlabel('Features')\n",
    "ax[0].set_ylabel('Number of Missing Values')\n",
    "ax[0].tick_params(axis='x', rotation=90)\n",
    "\n",
    "# Plot for the test data\n",
    "sns.barplot(x=test_missing_columns.index, y=test_missing_columns.values, ax=ax[1])\n",
    "ax[1].set_title('Missing Values in Test Data')\n",
    "ax[1].set_xlabel('Features')\n",
    "ax[1].tick_params(axis='x', rotation=90)\n",
    "\n",
    "# Show the plots\n",
    "plt.tight_layout()\n",
    "plt.show()"
   ]
  },
  {
   "cell_type": "code",
   "execution_count": 16,
   "id": "9400ee14",
   "metadata": {
    "execution": {
     "iopub.execute_input": "2024-06-07T11:33:13.584339Z",
     "iopub.status.busy": "2024-06-07T11:33:13.583037Z",
     "iopub.status.idle": "2024-06-07T11:33:13.678925Z",
     "shell.execute_reply": "2024-06-07T11:33:13.677383Z"
    },
    "papermill": {
     "duration": 0.127306,
     "end_time": "2024-06-07T11:33:13.681550",
     "exception": false,
     "start_time": "2024-06-07T11:33:13.554244",
     "status": "completed"
    },
    "tags": []
   },
   "outputs": [
    {
     "name": "stdout",
     "output_type": "stream",
     "text": [
      "Total missing values after imputation in train data: 0\n",
      "Total missing values after imputation test data: 0\n"
     ]
    }
   ],
   "source": [
    "from sklearn.impute import SimpleImputer\n",
    "\n",
    "# Separate numerical and categorical columns\n",
    "numerical_columns = train_data_preproc.select_dtypes(include=['int64', 'float64']).columns\n",
    "numerical_columns_test = test_data.select_dtypes(include=['int64', 'float64']).columns\n",
    "categorical_columns = train_data_preproc.select_dtypes(include=['object']).columns\n",
    "\n",
    "# Impute missing values for numerical features with mean\n",
    "numerical_imputer = SimpleImputer(strategy='mean')\n",
    "train_data_numerical = pd.DataFrame(numerical_imputer.fit_transform(train_data_preproc[numerical_columns]), columns=numerical_columns)\n",
    "test_data_numerical = pd.DataFrame(numerical_imputer.fit_transform(test_data[numerical_columns_test]), columns=numerical_columns_test)\n",
    "\n",
    "# Impute missing values for categorical features with mode\n",
    "categorical_imputer = SimpleImputer(strategy='most_frequent')\n",
    "train_data_categorical = pd.DataFrame(categorical_imputer.fit_transform(train_data_preproc[categorical_columns]), columns=categorical_columns)\n",
    "test_data_categorical = pd.DataFrame(categorical_imputer.fit_transform(test_data[categorical_columns]), columns=categorical_columns)\n",
    "\n",
    "# Combine numerical and categorical DataFrames\n",
    "train_data_preproc = pd.concat([train_data_numerical, train_data_categorical], axis=1)\n",
    "test_data_preproc = pd.concat([test_data_numerical, test_data_categorical], axis=1)\n",
    "\n",
    "# Check for any remaining missing values\n",
    "missing_values_count = train_data_preproc.isnull().sum().sum()\n",
    "print(f\"Total missing values after imputation in train data: {missing_values_count}\")\n",
    "\n",
    "missing_values_count = test_data_preproc.isnull().sum().sum()\n",
    "print(f\"Total missing values after imputation test data: {missing_values_count}\")"
   ]
  },
  {
   "cell_type": "code",
   "execution_count": 17,
   "id": "d877960c",
   "metadata": {
    "execution": {
     "iopub.execute_input": "2024-06-07T11:33:13.758212Z",
     "iopub.status.busy": "2024-06-07T11:33:13.756972Z",
     "iopub.status.idle": "2024-06-07T11:33:13.790288Z",
     "shell.execute_reply": "2024-06-07T11:33:13.789110Z"
    },
    "papermill": {
     "duration": 0.075199,
     "end_time": "2024-06-07T11:33:13.792975",
     "exception": false,
     "start_time": "2024-06-07T11:33:13.717776",
     "status": "completed"
    },
    "tags": []
   },
   "outputs": [
    {
     "data": {
      "text/plain": [
       "['Street', 'Alley', 'Utilities', 'CentralAir']"
      ]
     },
     "execution_count": 17,
     "metadata": {},
     "output_type": "execute_result"
    }
   ],
   "source": [
    "from sklearn.preprocessing import OneHotEncoder, LabelEncoder\n",
    "\n",
    "# Identify binary categorical features\n",
    "binary_categorical_features = [col for col in categorical_columns if train_data_preproc[col].nunique() == 2]\n",
    "other_categorical_features = [col for col in categorical_columns if train_data_preproc[col].nunique() > 2]\n",
    "\n",
    "binary_categorical_features"
   ]
  },
  {
   "cell_type": "code",
   "execution_count": 18,
   "id": "be831fb6",
   "metadata": {
    "execution": {
     "iopub.execute_input": "2024-06-07T11:33:13.847747Z",
     "iopub.status.busy": "2024-06-07T11:33:13.847333Z",
     "iopub.status.idle": "2024-06-07T11:33:13.865085Z",
     "shell.execute_reply": "2024-06-07T11:33:13.863567Z"
    },
    "papermill": {
     "duration": 0.048798,
     "end_time": "2024-06-07T11:33:13.867865",
     "exception": false,
     "start_time": "2024-06-07T11:33:13.819067",
     "status": "completed"
    },
    "tags": []
   },
   "outputs": [],
   "source": [
    "# OneHotEncode binary categorical features\n",
    "one_hot_encoder = OneHotEncoder(drop='if_binary', sparse=False)\n",
    "encoded_binary_features = one_hot_encoder.fit_transform(train_data_preproc[binary_categorical_features])\n",
    "encoded_binary_features = encoded_binary_features.astype(int)\n",
    "encoded_binary_features_df = pd.DataFrame(encoded_binary_features, columns=one_hot_encoder.get_feature_names_out(binary_categorical_features))"
   ]
  },
  {
   "cell_type": "code",
   "execution_count": 19,
   "id": "78828360",
   "metadata": {
    "execution": {
     "iopub.execute_input": "2024-06-07T11:33:13.922287Z",
     "iopub.status.busy": "2024-06-07T11:33:13.921871Z",
     "iopub.status.idle": "2024-06-07T11:33:13.933958Z",
     "shell.execute_reply": "2024-06-07T11:33:13.932587Z"
    },
    "papermill": {
     "duration": 0.043307,
     "end_time": "2024-06-07T11:33:13.936805",
     "exception": false,
     "start_time": "2024-06-07T11:33:13.893498",
     "status": "completed"
    },
    "tags": []
   },
   "outputs": [
    {
     "name": "stdout",
     "output_type": "stream",
     "text": [
      "<class 'pandas.core.frame.DataFrame'>\n",
      "RangeIndex: 1460 entries, 0 to 1459\n",
      "Data columns (total 4 columns):\n",
      " #   Column            Non-Null Count  Dtype\n",
      "---  ------            --------------  -----\n",
      " 0   Street_Pave       1460 non-null   int64\n",
      " 1   Alley_Pave        1460 non-null   int64\n",
      " 2   Utilities_NoSeWa  1460 non-null   int64\n",
      " 3   CentralAir_Y      1460 non-null   int64\n",
      "dtypes: int64(4)\n",
      "memory usage: 45.8 KB\n"
     ]
    }
   ],
   "source": [
    "encoded_binary_features_df.info()"
   ]
  },
  {
   "cell_type": "code",
   "execution_count": 20,
   "id": "494b145c",
   "metadata": {
    "execution": {
     "iopub.execute_input": "2024-06-07T11:33:13.989639Z",
     "iopub.status.busy": "2024-06-07T11:33:13.989079Z",
     "iopub.status.idle": "2024-06-07T11:33:14.060273Z",
     "shell.execute_reply": "2024-06-07T11:33:14.059038Z"
    },
    "papermill": {
     "duration": 0.100621,
     "end_time": "2024-06-07T11:33:14.062988",
     "exception": false,
     "start_time": "2024-06-07T11:33:13.962367",
     "status": "completed"
    },
    "tags": []
   },
   "outputs": [
    {
     "name": "stdout",
     "output_type": "stream",
     "text": [
      "Label encoders dictionary:\n",
      "MSZoning: {'C (all)': 0, 'FV': 1, 'RH': 2, 'RL': 3, 'RM': 4}\n",
      "LotShape: {'IR1': 0, 'IR2': 1, 'IR3': 2, 'Reg': 3}\n",
      "LandContour: {'Bnk': 0, 'HLS': 1, 'Low': 2, 'Lvl': 3}\n",
      "LotConfig: {'Corner': 0, 'CulDSac': 1, 'FR2': 2, 'FR3': 3, 'Inside': 4}\n",
      "LandSlope: {'Gtl': 0, 'Mod': 1, 'Sev': 2}\n",
      "Neighborhood: {'Blmngtn': 0, 'Blueste': 1, 'BrDale': 2, 'BrkSide': 3, 'ClearCr': 4, 'CollgCr': 5, 'Crawfor': 6, 'Edwards': 7, 'Gilbert': 8, 'IDOTRR': 9, 'MeadowV': 10, 'Mitchel': 11, 'NAmes': 12, 'NPkVill': 13, 'NWAmes': 14, 'NoRidge': 15, 'NridgHt': 16, 'OldTown': 17, 'SWISU': 18, 'Sawyer': 19, 'SawyerW': 20, 'Somerst': 21, 'StoneBr': 22, 'Timber': 23, 'Veenker': 24}\n",
      "Condition1: {'Artery': 0, 'Feedr': 1, 'Norm': 2, 'PosA': 3, 'PosN': 4, 'RRAe': 5, 'RRAn': 6, 'RRNe': 7, 'RRNn': 8}\n",
      "Condition2: {'Artery': 0, 'Feedr': 1, 'Norm': 2, 'PosA': 3, 'PosN': 4, 'RRAe': 5, 'RRAn': 6, 'RRNn': 7}\n",
      "BldgType: {'1Fam': 0, '2fmCon': 1, 'Duplex': 2, 'Twnhs': 3, 'TwnhsE': 4}\n",
      "HouseStyle: {'1.5Fin': 0, '1.5Unf': 1, '1Story': 2, '2.5Fin': 3, '2.5Unf': 4, '2Story': 5, 'SFoyer': 6, 'SLvl': 7}\n",
      "RoofStyle: {'Flat': 0, 'Gable': 1, 'Gambrel': 2, 'Hip': 3, 'Mansard': 4, 'Shed': 5}\n",
      "RoofMatl: {'ClyTile': 0, 'CompShg': 1, 'Membran': 2, 'Metal': 3, 'Roll': 4, 'Tar&Grv': 5, 'WdShake': 6, 'WdShngl': 7}\n",
      "Exterior1st: {'AsbShng': 0, 'AsphShn': 1, 'BrkComm': 2, 'BrkFace': 3, 'CBlock': 4, 'CemntBd': 5, 'HdBoard': 6, 'ImStucc': 7, 'MetalSd': 8, 'Plywood': 9, 'Stone': 10, 'Stucco': 11, 'VinylSd': 12, 'Wd Sdng': 13, 'WdShing': 14}\n",
      "Exterior2nd: {'AsbShng': 0, 'AsphShn': 1, 'Brk Cmn': 2, 'BrkFace': 3, 'CBlock': 4, 'CmentBd': 5, 'HdBoard': 6, 'ImStucc': 7, 'MetalSd': 8, 'Other': 9, 'Plywood': 10, 'Stone': 11, 'Stucco': 12, 'VinylSd': 13, 'Wd Sdng': 14, 'Wd Shng': 15}\n",
      "MasVnrType: {'BrkCmn': 0, 'BrkFace': 1, 'Stone': 2}\n",
      "ExterQual: {'Ex': 0, 'Fa': 1, 'Gd': 2, 'TA': 3}\n",
      "ExterCond: {'Ex': 0, 'Fa': 1, 'Gd': 2, 'Po': 3, 'TA': 4}\n",
      "Foundation: {'BrkTil': 0, 'CBlock': 1, 'PConc': 2, 'Slab': 3, 'Stone': 4, 'Wood': 5}\n",
      "BsmtQual: {'Ex': 0, 'Fa': 1, 'Gd': 2, 'TA': 3}\n",
      "BsmtCond: {'Fa': 0, 'Gd': 1, 'Po': 2, 'TA': 3}\n",
      "BsmtExposure: {'Av': 0, 'Gd': 1, 'Mn': 2, 'No': 3}\n",
      "BsmtFinType1: {'ALQ': 0, 'BLQ': 1, 'GLQ': 2, 'LwQ': 3, 'Rec': 4, 'Unf': 5}\n",
      "BsmtFinType2: {'ALQ': 0, 'BLQ': 1, 'GLQ': 2, 'LwQ': 3, 'Rec': 4, 'Unf': 5}\n",
      "Heating: {'Floor': 0, 'GasA': 1, 'GasW': 2, 'Grav': 3, 'OthW': 4, 'Wall': 5}\n",
      "HeatingQC: {'Ex': 0, 'Fa': 1, 'Gd': 2, 'Po': 3, 'TA': 4}\n",
      "Electrical: {'FuseA': 0, 'FuseF': 1, 'FuseP': 2, 'Mix': 3, 'SBrkr': 4}\n",
      "KitchenQual: {'Ex': 0, 'Fa': 1, 'Gd': 2, 'TA': 3}\n",
      "Functional: {'Maj1': 0, 'Maj2': 1, 'Min1': 2, 'Min2': 3, 'Mod': 4, 'Sev': 5, 'Typ': 6}\n",
      "FireplaceQu: {'Ex': 0, 'Fa': 1, 'Gd': 2, 'Po': 3, 'TA': 4}\n",
      "GarageType: {'2Types': 0, 'Attchd': 1, 'Basment': 2, 'BuiltIn': 3, 'CarPort': 4, 'Detchd': 5}\n",
      "GarageFinish: {'Fin': 0, 'RFn': 1, 'Unf': 2}\n",
      "GarageQual: {'Ex': 0, 'Fa': 1, 'Gd': 2, 'Po': 3, 'TA': 4}\n",
      "GarageCond: {'Ex': 0, 'Fa': 1, 'Gd': 2, 'Po': 3, 'TA': 4}\n",
      "PavedDrive: {'N': 0, 'P': 1, 'Y': 2}\n",
      "PoolQC: {'Ex': 0, 'Fa': 1, 'Gd': 2}\n",
      "Fence: {'GdPrv': 0, 'GdWo': 1, 'MnPrv': 2, 'MnWw': 3}\n",
      "MiscFeature: {'Gar2': 0, 'Othr': 1, 'Shed': 2, 'TenC': 3}\n",
      "SaleType: {'COD': 0, 'CWD': 1, 'Con': 2, 'ConLD': 3, 'ConLI': 4, 'ConLw': 5, 'New': 6, 'Oth': 7, 'WD': 8}\n",
      "SaleCondition: {'Abnorml': 0, 'AdjLand': 1, 'Alloca': 2, 'Family': 3, 'Normal': 4, 'Partial': 5}\n"
     ]
    }
   ],
   "source": [
    "# LabelEncode other categorical features\n",
    "label_encoders = {}\n",
    "encoded_other_features_df = pd.DataFrame()\n",
    "\n",
    "for col in other_categorical_features:\n",
    "    le = LabelEncoder()\n",
    "    train_data_preproc[col] = le.fit_transform(train_data_preproc[col])\n",
    "    label_encoders[col] = dict(zip(le.classes_, le.transform(le.classes_)))\n",
    "    encoded_other_features_df[col] = train_data_preproc[col]\n",
    "\n",
    "# Combine encoded categorical features and numerical features\n",
    "train_data_preproc = pd.concat([encoded_binary_features_df, encoded_other_features_df, train_data_preproc[numerical_columns]], axis=1)\n",
    "\n",
    "# Print label encoders dictionary\n",
    "print(\"Label encoders dictionary:\")\n",
    "for col, mapping in label_encoders.items():\n",
    "    print(f\"{col}: {mapping}\")"
   ]
  },
  {
   "cell_type": "markdown",
   "id": "27dad4f9",
   "metadata": {
    "papermill": {
     "duration": 0.025978,
     "end_time": "2024-06-07T11:33:14.116729",
     "exception": false,
     "start_time": "2024-06-07T11:33:14.090751",
     "status": "completed"
    },
    "tags": []
   },
   "source": [
    "Perform the same steps for test data:\n"
   ]
  },
  {
   "cell_type": "code",
   "execution_count": 21,
   "id": "5f177c67",
   "metadata": {
    "execution": {
     "iopub.execute_input": "2024-06-07T11:33:14.170884Z",
     "iopub.status.busy": "2024-06-07T11:33:14.170463Z",
     "iopub.status.idle": "2024-06-07T11:33:14.255653Z",
     "shell.execute_reply": "2024-06-07T11:33:14.254495Z"
    },
    "papermill": {
     "duration": 0.115628,
     "end_time": "2024-06-07T11:33:14.258556",
     "exception": false,
     "start_time": "2024-06-07T11:33:14.142928",
     "status": "completed"
    },
    "tags": []
   },
   "outputs": [],
   "source": [
    "binary_categorical_features = [col for col in categorical_columns if test_data_preproc[col].nunique() == 2]\n",
    "other_categorical_features = [col for col in categorical_columns if test_data_preproc[col].nunique() > 2]\n",
    "\n",
    "encoded_binary_features = one_hot_encoder.fit_transform(test_data_preproc[binary_categorical_features])\n",
    "encoded_binary_features = encoded_binary_features.astype(int)\n",
    "encoded_binary_features_df = pd.DataFrame(encoded_binary_features, columns=one_hot_encoder.get_feature_names_out(binary_categorical_features))\n",
    "\n",
    "# LabelEncode other categorical features\n",
    "encoded_other_features_df = pd.DataFrame()\n",
    "\n",
    "for col in other_categorical_features:\n",
    "    le = LabelEncoder()\n",
    "    test_data_preproc[col] = le.fit_transform(test_data_preproc[col])\n",
    "    encoded_other_features_df[col] = test_data_preproc[col]\n",
    "\n",
    "# Combine encoded categorical features and numerical features\n",
    "test_data_preproc = pd.concat([encoded_binary_features_df, encoded_other_features_df, test_data_preproc[numerical_columns_test]], axis=1)"
   ]
  },
  {
   "cell_type": "code",
   "execution_count": 22,
   "id": "b7b54c27",
   "metadata": {
    "execution": {
     "iopub.execute_input": "2024-06-07T11:33:14.314730Z",
     "iopub.status.busy": "2024-06-07T11:33:14.314233Z",
     "iopub.status.idle": "2024-06-07T11:33:14.347995Z",
     "shell.execute_reply": "2024-06-07T11:33:14.346612Z"
    },
    "papermill": {
     "duration": 0.065966,
     "end_time": "2024-06-07T11:33:14.350829",
     "exception": false,
     "start_time": "2024-06-07T11:33:14.284863",
     "status": "completed"
    },
    "tags": []
   },
   "outputs": [
    {
     "data": {
      "text/html": [
       "<div>\n",
       "<style scoped>\n",
       "    .dataframe tbody tr th:only-of-type {\n",
       "        vertical-align: middle;\n",
       "    }\n",
       "\n",
       "    .dataframe tbody tr th {\n",
       "        vertical-align: top;\n",
       "    }\n",
       "\n",
       "    .dataframe thead th {\n",
       "        text-align: right;\n",
       "    }\n",
       "</style>\n",
       "<table border=\"1\" class=\"dataframe\">\n",
       "  <thead>\n",
       "    <tr style=\"text-align: right;\">\n",
       "      <th></th>\n",
       "      <th>Street_Pave</th>\n",
       "      <th>Alley_Pave</th>\n",
       "      <th>Utilities_NoSeWa</th>\n",
       "      <th>CentralAir_Y</th>\n",
       "      <th>MSZoning</th>\n",
       "      <th>LotShape</th>\n",
       "      <th>LandContour</th>\n",
       "      <th>LotConfig</th>\n",
       "      <th>LandSlope</th>\n",
       "      <th>Neighborhood</th>\n",
       "      <th>...</th>\n",
       "      <th>OpenPorchSF</th>\n",
       "      <th>EnclosedPorch</th>\n",
       "      <th>3SsnPorch</th>\n",
       "      <th>ScreenPorch</th>\n",
       "      <th>PoolArea</th>\n",
       "      <th>MiscVal</th>\n",
       "      <th>MoSold</th>\n",
       "      <th>YrSold</th>\n",
       "      <th>SalePrice</th>\n",
       "      <th>extraordinary</th>\n",
       "    </tr>\n",
       "  </thead>\n",
       "  <tbody>\n",
       "    <tr>\n",
       "      <th>0</th>\n",
       "      <td>1</td>\n",
       "      <td>0</td>\n",
       "      <td>0</td>\n",
       "      <td>1</td>\n",
       "      <td>3</td>\n",
       "      <td>3</td>\n",
       "      <td>3</td>\n",
       "      <td>4</td>\n",
       "      <td>0</td>\n",
       "      <td>5</td>\n",
       "      <td>...</td>\n",
       "      <td>61.0</td>\n",
       "      <td>0.0</td>\n",
       "      <td>0.0</td>\n",
       "      <td>0.0</td>\n",
       "      <td>0.0</td>\n",
       "      <td>0.0</td>\n",
       "      <td>2.0</td>\n",
       "      <td>2008.0</td>\n",
       "      <td>208500.0</td>\n",
       "      <td>1.0</td>\n",
       "    </tr>\n",
       "    <tr>\n",
       "      <th>1</th>\n",
       "      <td>1</td>\n",
       "      <td>0</td>\n",
       "      <td>0</td>\n",
       "      <td>1</td>\n",
       "      <td>3</td>\n",
       "      <td>3</td>\n",
       "      <td>3</td>\n",
       "      <td>2</td>\n",
       "      <td>0</td>\n",
       "      <td>24</td>\n",
       "      <td>...</td>\n",
       "      <td>0.0</td>\n",
       "      <td>0.0</td>\n",
       "      <td>0.0</td>\n",
       "      <td>0.0</td>\n",
       "      <td>0.0</td>\n",
       "      <td>0.0</td>\n",
       "      <td>5.0</td>\n",
       "      <td>2007.0</td>\n",
       "      <td>181500.0</td>\n",
       "      <td>2.0</td>\n",
       "    </tr>\n",
       "    <tr>\n",
       "      <th>2</th>\n",
       "      <td>1</td>\n",
       "      <td>0</td>\n",
       "      <td>0</td>\n",
       "      <td>1</td>\n",
       "      <td>3</td>\n",
       "      <td>0</td>\n",
       "      <td>3</td>\n",
       "      <td>4</td>\n",
       "      <td>0</td>\n",
       "      <td>5</td>\n",
       "      <td>...</td>\n",
       "      <td>42.0</td>\n",
       "      <td>0.0</td>\n",
       "      <td>0.0</td>\n",
       "      <td>0.0</td>\n",
       "      <td>0.0</td>\n",
       "      <td>0.0</td>\n",
       "      <td>9.0</td>\n",
       "      <td>2008.0</td>\n",
       "      <td>223500.0</td>\n",
       "      <td>2.0</td>\n",
       "    </tr>\n",
       "    <tr>\n",
       "      <th>3</th>\n",
       "      <td>1</td>\n",
       "      <td>0</td>\n",
       "      <td>0</td>\n",
       "      <td>1</td>\n",
       "      <td>3</td>\n",
       "      <td>0</td>\n",
       "      <td>3</td>\n",
       "      <td>0</td>\n",
       "      <td>0</td>\n",
       "      <td>6</td>\n",
       "      <td>...</td>\n",
       "      <td>35.0</td>\n",
       "      <td>272.0</td>\n",
       "      <td>0.0</td>\n",
       "      <td>0.0</td>\n",
       "      <td>0.0</td>\n",
       "      <td>0.0</td>\n",
       "      <td>2.0</td>\n",
       "      <td>2006.0</td>\n",
       "      <td>140000.0</td>\n",
       "      <td>3.0</td>\n",
       "    </tr>\n",
       "    <tr>\n",
       "      <th>4</th>\n",
       "      <td>1</td>\n",
       "      <td>0</td>\n",
       "      <td>0</td>\n",
       "      <td>1</td>\n",
       "      <td>3</td>\n",
       "      <td>0</td>\n",
       "      <td>3</td>\n",
       "      <td>2</td>\n",
       "      <td>0</td>\n",
       "      <td>15</td>\n",
       "      <td>...</td>\n",
       "      <td>84.0</td>\n",
       "      <td>0.0</td>\n",
       "      <td>0.0</td>\n",
       "      <td>0.0</td>\n",
       "      <td>0.0</td>\n",
       "      <td>0.0</td>\n",
       "      <td>12.0</td>\n",
       "      <td>2008.0</td>\n",
       "      <td>250000.0</td>\n",
       "      <td>3.0</td>\n",
       "    </tr>\n",
       "  </tbody>\n",
       "</table>\n",
       "<p>5 rows × 76 columns</p>\n",
       "</div>"
      ],
      "text/plain": [
       "   Street_Pave  Alley_Pave  Utilities_NoSeWa  CentralAir_Y  MSZoning  \\\n",
       "0            1           0                 0             1         3   \n",
       "1            1           0                 0             1         3   \n",
       "2            1           0                 0             1         3   \n",
       "3            1           0                 0             1         3   \n",
       "4            1           0                 0             1         3   \n",
       "\n",
       "   LotShape  LandContour  LotConfig  LandSlope  Neighborhood  ...  \\\n",
       "0         3            3          4          0             5  ...   \n",
       "1         3            3          2          0            24  ...   \n",
       "2         0            3          4          0             5  ...   \n",
       "3         0            3          0          0             6  ...   \n",
       "4         0            3          2          0            15  ...   \n",
       "\n",
       "   OpenPorchSF  EnclosedPorch  3SsnPorch  ScreenPorch  PoolArea  MiscVal  \\\n",
       "0         61.0            0.0        0.0          0.0       0.0      0.0   \n",
       "1          0.0            0.0        0.0          0.0       0.0      0.0   \n",
       "2         42.0            0.0        0.0          0.0       0.0      0.0   \n",
       "3         35.0          272.0        0.0          0.0       0.0      0.0   \n",
       "4         84.0            0.0        0.0          0.0       0.0      0.0   \n",
       "\n",
       "   MoSold  YrSold  SalePrice  extraordinary  \n",
       "0     2.0  2008.0   208500.0            1.0  \n",
       "1     5.0  2007.0   181500.0            2.0  \n",
       "2     9.0  2008.0   223500.0            2.0  \n",
       "3     2.0  2006.0   140000.0            3.0  \n",
       "4    12.0  2008.0   250000.0            3.0  \n",
       "\n",
       "[5 rows x 76 columns]"
      ]
     },
     "execution_count": 22,
     "metadata": {},
     "output_type": "execute_result"
    }
   ],
   "source": [
    "train_data_preproc.head(5)"
   ]
  },
  {
   "cell_type": "code",
   "execution_count": 23,
   "id": "b4c48e77",
   "metadata": {
    "execution": {
     "iopub.execute_input": "2024-06-07T11:33:14.410366Z",
     "iopub.status.busy": "2024-06-07T11:33:14.409925Z",
     "iopub.status.idle": "2024-06-07T11:33:14.444235Z",
     "shell.execute_reply": "2024-06-07T11:33:14.442204Z"
    },
    "papermill": {
     "duration": 0.068348,
     "end_time": "2024-06-07T11:33:14.447053",
     "exception": false,
     "start_time": "2024-06-07T11:33:14.378705",
     "status": "completed"
    },
    "tags": []
   },
   "outputs": [
    {
     "data": {
      "text/html": [
       "<div>\n",
       "<style scoped>\n",
       "    .dataframe tbody tr th:only-of-type {\n",
       "        vertical-align: middle;\n",
       "    }\n",
       "\n",
       "    .dataframe tbody tr th {\n",
       "        vertical-align: top;\n",
       "    }\n",
       "\n",
       "    .dataframe thead th {\n",
       "        text-align: right;\n",
       "    }\n",
       "</style>\n",
       "<table border=\"1\" class=\"dataframe\">\n",
       "  <thead>\n",
       "    <tr style=\"text-align: right;\">\n",
       "      <th></th>\n",
       "      <th>Street_Pave</th>\n",
       "      <th>Alley_Pave</th>\n",
       "      <th>CentralAir_Y</th>\n",
       "      <th>PoolQC_Gd</th>\n",
       "      <th>MSZoning</th>\n",
       "      <th>LotShape</th>\n",
       "      <th>LandContour</th>\n",
       "      <th>LotConfig</th>\n",
       "      <th>LandSlope</th>\n",
       "      <th>Neighborhood</th>\n",
       "      <th>...</th>\n",
       "      <th>WoodDeckSF</th>\n",
       "      <th>OpenPorchSF</th>\n",
       "      <th>EnclosedPorch</th>\n",
       "      <th>3SsnPorch</th>\n",
       "      <th>ScreenPorch</th>\n",
       "      <th>PoolArea</th>\n",
       "      <th>MiscVal</th>\n",
       "      <th>MoSold</th>\n",
       "      <th>YrSold</th>\n",
       "      <th>extraordinary</th>\n",
       "    </tr>\n",
       "  </thead>\n",
       "  <tbody>\n",
       "    <tr>\n",
       "      <th>0</th>\n",
       "      <td>1</td>\n",
       "      <td>0</td>\n",
       "      <td>1</td>\n",
       "      <td>0</td>\n",
       "      <td>2</td>\n",
       "      <td>3</td>\n",
       "      <td>3</td>\n",
       "      <td>4</td>\n",
       "      <td>0</td>\n",
       "      <td>12</td>\n",
       "      <td>...</td>\n",
       "      <td>140.0</td>\n",
       "      <td>0.0</td>\n",
       "      <td>0.0</td>\n",
       "      <td>0.0</td>\n",
       "      <td>120.0</td>\n",
       "      <td>0.0</td>\n",
       "      <td>0.0</td>\n",
       "      <td>6.0</td>\n",
       "      <td>2010.0</td>\n",
       "      <td>2.0</td>\n",
       "    </tr>\n",
       "    <tr>\n",
       "      <th>1</th>\n",
       "      <td>1</td>\n",
       "      <td>0</td>\n",
       "      <td>1</td>\n",
       "      <td>0</td>\n",
       "      <td>3</td>\n",
       "      <td>0</td>\n",
       "      <td>3</td>\n",
       "      <td>0</td>\n",
       "      <td>0</td>\n",
       "      <td>12</td>\n",
       "      <td>...</td>\n",
       "      <td>393.0</td>\n",
       "      <td>36.0</td>\n",
       "      <td>0.0</td>\n",
       "      <td>0.0</td>\n",
       "      <td>0.0</td>\n",
       "      <td>0.0</td>\n",
       "      <td>12500.0</td>\n",
       "      <td>6.0</td>\n",
       "      <td>2010.0</td>\n",
       "      <td>2.0</td>\n",
       "    </tr>\n",
       "    <tr>\n",
       "      <th>2</th>\n",
       "      <td>1</td>\n",
       "      <td>0</td>\n",
       "      <td>1</td>\n",
       "      <td>0</td>\n",
       "      <td>3</td>\n",
       "      <td>0</td>\n",
       "      <td>3</td>\n",
       "      <td>4</td>\n",
       "      <td>0</td>\n",
       "      <td>8</td>\n",
       "      <td>...</td>\n",
       "      <td>212.0</td>\n",
       "      <td>34.0</td>\n",
       "      <td>0.0</td>\n",
       "      <td>0.0</td>\n",
       "      <td>0.0</td>\n",
       "      <td>0.0</td>\n",
       "      <td>0.0</td>\n",
       "      <td>3.0</td>\n",
       "      <td>2010.0</td>\n",
       "      <td>3.0</td>\n",
       "    </tr>\n",
       "    <tr>\n",
       "      <th>3</th>\n",
       "      <td>1</td>\n",
       "      <td>0</td>\n",
       "      <td>1</td>\n",
       "      <td>0</td>\n",
       "      <td>3</td>\n",
       "      <td>0</td>\n",
       "      <td>3</td>\n",
       "      <td>4</td>\n",
       "      <td>0</td>\n",
       "      <td>8</td>\n",
       "      <td>...</td>\n",
       "      <td>360.0</td>\n",
       "      <td>36.0</td>\n",
       "      <td>0.0</td>\n",
       "      <td>0.0</td>\n",
       "      <td>0.0</td>\n",
       "      <td>0.0</td>\n",
       "      <td>0.0</td>\n",
       "      <td>6.0</td>\n",
       "      <td>2010.0</td>\n",
       "      <td>3.0</td>\n",
       "    </tr>\n",
       "    <tr>\n",
       "      <th>4</th>\n",
       "      <td>1</td>\n",
       "      <td>0</td>\n",
       "      <td>1</td>\n",
       "      <td>0</td>\n",
       "      <td>3</td>\n",
       "      <td>0</td>\n",
       "      <td>1</td>\n",
       "      <td>4</td>\n",
       "      <td>0</td>\n",
       "      <td>22</td>\n",
       "      <td>...</td>\n",
       "      <td>0.0</td>\n",
       "      <td>82.0</td>\n",
       "      <td>0.0</td>\n",
       "      <td>0.0</td>\n",
       "      <td>144.0</td>\n",
       "      <td>0.0</td>\n",
       "      <td>0.0</td>\n",
       "      <td>1.0</td>\n",
       "      <td>2010.0</td>\n",
       "      <td>2.0</td>\n",
       "    </tr>\n",
       "  </tbody>\n",
       "</table>\n",
       "<p>5 rows × 80 columns</p>\n",
       "</div>"
      ],
      "text/plain": [
       "   Street_Pave  Alley_Pave  CentralAir_Y  PoolQC_Gd  MSZoning  LotShape  \\\n",
       "0            1           0             1          0         2         3   \n",
       "1            1           0             1          0         3         0   \n",
       "2            1           0             1          0         3         0   \n",
       "3            1           0             1          0         3         0   \n",
       "4            1           0             1          0         3         0   \n",
       "\n",
       "   LandContour  LotConfig  LandSlope  Neighborhood  ...  WoodDeckSF  \\\n",
       "0            3          4          0            12  ...       140.0   \n",
       "1            3          0          0            12  ...       393.0   \n",
       "2            3          4          0             8  ...       212.0   \n",
       "3            3          4          0             8  ...       360.0   \n",
       "4            1          4          0            22  ...         0.0   \n",
       "\n",
       "   OpenPorchSF  EnclosedPorch  3SsnPorch  ScreenPorch  PoolArea  MiscVal  \\\n",
       "0          0.0            0.0        0.0        120.0       0.0      0.0   \n",
       "1         36.0            0.0        0.0          0.0       0.0  12500.0   \n",
       "2         34.0            0.0        0.0          0.0       0.0      0.0   \n",
       "3         36.0            0.0        0.0          0.0       0.0      0.0   \n",
       "4         82.0            0.0        0.0        144.0       0.0      0.0   \n",
       "\n",
       "   MoSold  YrSold  extraordinary  \n",
       "0     6.0  2010.0            2.0  \n",
       "1     6.0  2010.0            2.0  \n",
       "2     3.0  2010.0            3.0  \n",
       "3     6.0  2010.0            3.0  \n",
       "4     1.0  2010.0            2.0  \n",
       "\n",
       "[5 rows x 80 columns]"
      ]
     },
     "execution_count": 23,
     "metadata": {},
     "output_type": "execute_result"
    }
   ],
   "source": [
    "test_data_preproc.head(5)"
   ]
  },
  {
   "cell_type": "code",
   "execution_count": 24,
   "id": "54eb01b4",
   "metadata": {
    "execution": {
     "iopub.execute_input": "2024-06-07T11:33:14.506165Z",
     "iopub.status.busy": "2024-06-07T11:33:14.505745Z",
     "iopub.status.idle": "2024-06-07T11:33:14.512315Z",
     "shell.execute_reply": "2024-06-07T11:33:14.510969Z"
    },
    "papermill": {
     "duration": 0.040689,
     "end_time": "2024-06-07T11:33:14.515362",
     "exception": false,
     "start_time": "2024-06-07T11:33:14.474673",
     "status": "completed"
    },
    "tags": []
   },
   "outputs": [
    {
     "name": "stdout",
     "output_type": "stream",
     "text": [
      "Train size: (1460, 76)\n",
      "Test size: (1459, 80)\n"
     ]
    }
   ],
   "source": [
    "print(f\"Train size: {train_data_preproc.shape}\")\n",
    "print(f\"Test size: {test_data_preproc.shape}\")"
   ]
  },
  {
   "cell_type": "code",
   "execution_count": 25,
   "id": "96a05c96",
   "metadata": {
    "execution": {
     "iopub.execute_input": "2024-06-07T11:33:14.576320Z",
     "iopub.status.busy": "2024-06-07T11:33:14.575860Z",
     "iopub.status.idle": "2024-06-07T11:33:14.585069Z",
     "shell.execute_reply": "2024-06-07T11:33:14.583435Z"
    },
    "papermill": {
     "duration": 0.04405,
     "end_time": "2024-06-07T11:33:14.587980",
     "exception": false,
     "start_time": "2024-06-07T11:33:14.543930",
     "status": "completed"
    },
    "tags": []
   },
   "outputs": [
    {
     "name": "stdout",
     "output_type": "stream",
     "text": [
      "Columns missing in test_data compared to train_data:\n",
      "Index(['PoolQC', 'SalePrice', 'Utilities_NoSeWa'], dtype='object')\n"
     ]
    }
   ],
   "source": [
    "# Get the columns present in the training dataset\n",
    "train_col = train_data_preproc.columns\n",
    "\n",
    "# Get the columns present in the testing dataset\n",
    "test_col = test_data_preproc.columns\n",
    "\n",
    "# Identify the columns missing in the testing dataset\n",
    "missing_columns = train_col.difference(test_col)\n",
    "\n",
    "# Print the missing columns\n",
    "print(\"Columns missing in test_data compared to train_data:\")\n",
    "print(missing_columns)\n"
   ]
  },
  {
   "cell_type": "markdown",
   "id": "a0c3bf25",
   "metadata": {
    "papermill": {
     "duration": 0.032325,
     "end_time": "2024-06-07T11:33:14.650103",
     "exception": false,
     "start_time": "2024-06-07T11:33:14.617778",
     "status": "completed"
    },
    "tags": []
   },
   "source": [
    "### Correlation matrix"
   ]
  },
  {
   "cell_type": "code",
   "execution_count": 26,
   "id": "02d462eb",
   "metadata": {
    "execution": {
     "iopub.execute_input": "2024-06-07T11:33:14.711064Z",
     "iopub.status.busy": "2024-06-07T11:33:14.710576Z",
     "iopub.status.idle": "2024-06-07T11:33:16.439197Z",
     "shell.execute_reply": "2024-06-07T11:33:16.438045Z"
    },
    "papermill": {
     "duration": 1.766219,
     "end_time": "2024-06-07T11:33:16.445613",
     "exception": false,
     "start_time": "2024-06-07T11:33:14.679394",
     "status": "completed"
    },
    "tags": []
   },
   "outputs": [
    {
     "data": {
      "image/png": "[encoded data removed]",
      "text/plain": [
       "<Figure size 1500x1000 with 2 Axes>"
      ]
     },
     "metadata": {},
     "output_type": "display_data"
    }
   ],
   "source": [
    "k = 20 #number of variables for heatmap\n",
    "correlation_matrix = train_data_preproc.corr()\n",
    "most_correlated = correlation_matrix.nlargest(k, 'SalePrice')['SalePrice'].index\n",
    "cm = np.corrcoef(train_data_preproc[most_correlated].values.T)\n",
    "plt.figure(figsize=(15, 10)) \n",
    "hm = sns.heatmap(cm, cbar=True, annot=True, square=True, fmt='.2f', cmap='coolwarm', annot_kws={'size': 10}, yticklabels=most_correlated.values, xticklabels=most_correlated.values)\n",
    "plt.show()\n"
   ]
  },
  {
   "cell_type": "markdown",
   "id": "ef71211c",
   "metadata": {
    "execution": {
     "iopub.execute_input": "2024-05-30T12:16:56.269979Z",
     "iopub.status.busy": "2024-05-30T12:16:56.269184Z",
     "iopub.status.idle": "2024-05-30T12:16:56.300316Z",
     "shell.execute_reply": "2024-05-30T12:16:56.299035Z",
     "shell.execute_reply.started": "2024-05-30T12:16:56.269938Z"
    },
    "papermill": {
     "duration": 0.038037,
     "end_time": "2024-06-07T11:33:16.515772",
     "exception": false,
     "start_time": "2024-06-07T11:33:16.477735",
     "status": "completed"
    },
    "tags": []
   },
   "source": [
    "### RFE"
   ]
  },
  {
   "cell_type": "code",
   "execution_count": 27,
   "id": "e652d561",
   "metadata": {
    "execution": {
     "iopub.execute_input": "2024-06-07T11:33:16.597217Z",
     "iopub.status.busy": "2024-06-07T11:33:16.595789Z",
     "iopub.status.idle": "2024-06-07T11:35:10.236129Z",
     "shell.execute_reply": "2024-06-07T11:35:10.234955Z"
    },
    "papermill": {
     "duration": 113.685151,
     "end_time": "2024-06-07T11:35:10.239248",
     "exception": false,
     "start_time": "2024-06-07T11:33:16.554097",
     "status": "completed"
    },
    "tags": []
   },
   "outputs": [],
   "source": [
    "from sklearn.feature_selection import RFE\n",
    "from sklearn.ensemble import RandomForestRegressor\n",
    "\n",
    "make_RFE = 1\n",
    "\n",
    "# Perform Recursive Feature Elimination (RFE) with Random Forest Regressor\n",
    "X = train_data_preproc.drop(columns=['SalePrice'])\n",
    "y = train_data_preproc['SalePrice']\n",
    "rf_regressor = RandomForestRegressor()\n",
    "lr_regressor = LinearRegression()\n",
    "if(make_RFE):\n",
    "    rfe = RFE(estimator=rf_regressor, n_features_to_select=20)  # Adjust the number of features as needed\n",
    "    rfe.fit(X, y)\n",
    "    most_correlated_rfe = X.columns[rfe.support_]\n",
    "    most_correlated_rfe\n",
    "else:\n",
    "    most_correlated_rfe = pd.Index([])\n",
    "    print(\"RFE not done, other feature selection metod has to be chosen\")"
   ]
  },
  {
   "cell_type": "code",
   "execution_count": 28,
   "id": "4999e510",
   "metadata": {
    "execution": {
     "iopub.execute_input": "2024-06-07T11:35:10.304931Z",
     "iopub.status.busy": "2024-06-07T11:35:10.304548Z",
     "iopub.status.idle": "2024-06-07T11:35:10.313225Z",
     "shell.execute_reply": "2024-06-07T11:35:10.312041Z"
    },
    "papermill": {
     "duration": 0.045067,
     "end_time": "2024-06-07T11:35:10.316619",
     "exception": false,
     "start_time": "2024-06-07T11:35:10.271552",
     "status": "completed"
    },
    "tags": []
   },
   "outputs": [
    {
     "name": "stdout",
     "output_type": "stream",
     "text": [
      "20 selected most important features according to RFE:\n",
      "20 selected most important features according to correlation matrix:\n"
     ]
    },
    {
     "data": {
      "text/plain": [
       "Index(['SalePrice', 'OverallQual', 'GarageArea', '1stFlrSF', 'FullBath',\n",
       "       'TotRmsAbvGrd', 'extraordinary', 'YearRemodAdd', 'MasVnrArea',\n",
       "       'GarageYrBlt', 'Fireplaces', 'BsmtFinSF1', 'Foundation', 'LotFrontage',\n",
       "       'WoodDeckSF', 'MasVnrType', '2ndFlrSF', 'OpenPorchSF', 'HalfBath',\n",
       "       'LotArea'],\n",
       "      dtype='object')"
      ]
     },
     "execution_count": 28,
     "metadata": {},
     "output_type": "execute_result"
    }
   ],
   "source": [
    "print(\"20 selected most important features according to RFE:\")\n",
    "most_correlated_rfe\n",
    "print(\"20 selected most important features according to correlation matrix:\")\n",
    "most_correlated"
   ]
  },
  {
   "cell_type": "markdown",
   "id": "ba9bf2a8",
   "metadata": {
    "papermill": {
     "duration": 0.032153,
     "end_time": "2024-06-07T11:35:10.381004",
     "exception": false,
     "start_time": "2024-06-07T11:35:10.348851",
     "status": "completed"
    },
    "tags": []
   },
   "source": [
    "In the 1970s, Hirotugu Akaike, the eminent Japanese statistician, developed a metric called AIC (Akaike’s Information Criteria) that penalizes adding terms to a model. In the case of regression, AIC has the form:\n",
    "\n",
    "> AIC = 2P + n log(RSS/n)\n",
    "\n",
    "\n",
    "where P is the number of variables and n is the number of records. The goal is to find the model that minimizes AIC; models with k more extra variables are penalized by 2k.\n",
    "\n",
    "In the next step the features will be selected basing on mimiization of AIC and stepwise regression from dbma package:\n"
   ]
  },
  {
   "cell_type": "code",
   "execution_count": 29,
   "id": "b3e9d1c0",
   "metadata": {
    "execution": {
     "iopub.execute_input": "2024-06-07T11:35:10.446905Z",
     "iopub.status.busy": "2024-06-07T11:35:10.446520Z",
     "iopub.status.idle": "2024-06-07T11:36:26.311100Z",
     "shell.execute_reply": "2024-06-07T11:36:26.306543Z"
    },
    "papermill": {
     "duration": 75.90225,
     "end_time": "2024-06-07T11:36:26.315391",
     "exception": false,
     "start_time": "2024-06-07T11:35:10.413141",
     "status": "completed"
    },
    "tags": []
   },
   "outputs": [
    {
     "name": "stdout",
     "output_type": "stream",
     "text": [
      "no display found. Using non-interactive Agg backend\n",
      "Variables: Street_Pave, Alley_Pave, Utilities_NoSeWa, CentralAir_Y, MSZoning, LotShape, LandContour, LotConfig, LandSlope, Neighborhood, Condition1, Condition2, BldgType, HouseStyle, RoofStyle, RoofMatl, Exterior1st, Exterior2nd, MasVnrType, ExterQual, ExterCond, Foundation, BsmtQual, BsmtCond, BsmtExposure, BsmtFinType1, BsmtFinType2, Heating, HeatingQC, Electrical, KitchenQual, Functional, FireplaceQu, GarageType, GarageFinish, GarageQual, GarageCond, PavedDrive, PoolQC, Fence, MiscFeature, SaleType, SaleCondition, Id, MSSubClass, LotFrontage, LotArea, OverallQual, OverallCond, YearRemodAdd, MasVnrArea, BsmtFinSF1, BsmtFinSF2, BsmtUnfSF, 1stFlrSF, 2ndFlrSF, LowQualFinSF, BsmtFullBath, FullBath, HalfBath, BedroomAbvGr, TotRmsAbvGrd, Fireplaces, GarageYrBlt, GarageArea, WoodDeckSF, OpenPorchSF, EnclosedPorch, 3SsnPorch, ScreenPorch, PoolArea, MiscVal, MoSold, YrSold, extraordinary\n",
      "Start: score=37092.04, constant\n",
      "Step: score=35659.49, add OverallQual\n",
      "Step: score=35369.19, add 1stFlrSF\n",
      "Step: score=35132.68, add 2ndFlrSF\n",
      "Step: score=34983.03, add BsmtQual\n",
      "Step: score=34906.87, add BsmtFinSF1\n",
      "Step: score=34833.93, add KitchenQual\n",
      "Step: score=34770.35, add MSSubClass\n",
      "Step: score=34724.06, add GarageArea\n",
      "Step: score=34690.56, add BsmtExposure\n",
      "Step: score=34664.40, add ExterQual\n",
      "Step: score=34641.37, add LotArea\n",
      "Step: score=34622.38, add MasVnrArea\n",
      "Step: score=34602.61, add OverallCond\n",
      "Step: score=34587.20, add Fireplaces\n",
      "Step: score=34569.92, add GarageYrBlt\n",
      "Step: score=34553.36, add PoolQC\n",
      "Step: score=34515.87, add PoolArea\n",
      "Step: score=34502.49, add RoofMatl\n",
      "Step: score=34488.98, add Functional\n",
      "Step: score=34474.83, add SaleCondition\n",
      "Step: score=34463.10, add LotFrontage\n",
      "Step: score=34454.41, add BsmtFullBath\n",
      "Step: score=34447.77, add PavedDrive\n",
      "Step: score=34442.40, add WoodDeckSF\n",
      "Step: score=34436.44, add ScreenPorch\n",
      "Step: score=34431.67, add Street_Pave\n",
      "Step: score=34426.84, add Neighborhood\n",
      "Step: score=34422.05, add Condition2\n",
      "Step: score=34418.50, add TotRmsAbvGrd\n",
      "Step: score=34415.48, add GarageFinish\n",
      "Step: score=34412.74, add BsmtCond\n",
      "Step: score=34410.50, add Exterior1st\n",
      "Step: score=34407.77, add HeatingQC\n",
      "Step: score=34406.62, add BsmtFinType1\n",
      "Step: score=34405.85, add BedroomAbvGr\n",
      "Step: score=34404.62, add FullBath\n",
      "Step: score=34403.82, add FireplaceQu\n",
      "Step: score=34403.17, add LotShape\n",
      "Step: score=34402.54, add Utilities_NoSeWa\n",
      "Step: score=34401.88, add LandContour\n",
      "Step: score=34401.53, add YrSold\n",
      "Step: score=34401.31, add extraordinary\n",
      "Step: score=34401.11, add LandSlope\n",
      "Step: score=34401.05, add RoofStyle\n",
      "Step: score=34401.05, unchanged None\n",
      "Intercept: 2035652.416\n",
      "Coefficients:\n",
      " OverallQual: 12588.528027690343\n",
      " 1stFlrSF: 46.927898820702055\n",
      " 2ndFlrSF: 43.39076866077762\n",
      " BsmtQual: -9984.586822434256\n",
      " BsmtFinSF1: 6.403590437455873\n",
      " KitchenQual: -8392.238590641302\n",
      " MSSubClass: -210.64955544433187\n",
      " GarageArea: 24.43741475999164\n",
      " BsmtExposure: -4149.647717969834\n",
      " ExterQual: -10618.989098957145\n",
      " LotArea: 0.42396027499099564\n",
      " MasVnrArea: 26.7036262815967\n",
      " OverallCond: 3923.552553289689\n",
      " Fireplaces: 8029.2932924767165\n",
      " GarageYrBlt: 111.97770044422958\n",
      " PoolQC: -112072.18691008259\n",
      " PoolArea: -175.32430172852165\n",
      " RoofMatl: 4988.700614379323\n",
      " Functional: 4135.530292003771\n",
      " SaleCondition: 3135.628599958462\n",
      " LotFrontage: -156.52485636573087\n",
      " BsmtFullBath: 7024.387003187522\n",
      " PavedDrive: 3449.153598504133\n",
      " WoodDeckSF: 26.35719550083018\n",
      " ScreenPorch: 53.028371692992216\n",
      " Street_Pave: 32126.613655840705\n",
      " Neighborhood: 376.97548215206587\n",
      " Condition2: -8785.35508947297\n",
      " TotRmsAbvGrd: 3039.4191255206206\n",
      " GarageFinish: -2116.735708184316\n",
      " BsmtCond: 2688.246158194388\n",
      " Exterior1st: -573.6010345045747\n",
      " HeatingQC: -1131.9028316073363\n",
      " BsmtFinType1: -1063.6852426213984\n",
      " BedroomAbvGr: -3180.716892337782\n",
      " FullBath: 4818.9432298896345\n",
      " FireplaceQu: -1812.9560402999798\n",
      " LotShape: -1155.7929745982183\n",
      " Utilities_NoSeWa: -46611.539541628765\n",
      " LandContour: 2641.5185058879624\n",
      " YrSold: -1011.2967218204712\n",
      " extraordinary: -1922.7874685105503\n",
      " LandSlope: 5549.431805051186\n",
      " RoofStyle: 1533.2008674173833\n"
     ]
    }
   ],
   "source": [
    "from sklearn.linear_model import LinearRegression\n",
    "from dmba import stepwise_selection, AIC_score\n",
    "\n",
    "make_aic_selection = 1\n",
    "\n",
    "if(make_aic_selection):\n",
    "    y = train_data_preproc['SalePrice']\n",
    "    X = train_data_preproc.drop(columns=['SalePrice'])\n",
    "\n",
    "    def train_model(variables):\n",
    "        if len(variables) == 0:\n",
    "            return None\n",
    "        model = LinearRegression()\n",
    "        model.fit(X[variables], y)\n",
    "        return model\n",
    "\n",
    "    def score_model(model, variables):\n",
    "        if len(variables) == 0:\n",
    "            return AIC_score(y, [y.mean()] * len(y), model, df=1)\n",
    "        return AIC_score(y, model.predict(X[variables]), model)\n",
    "\n",
    "    best_model, best_variables = stepwise_selection(X.columns, train_model, score_model, verbose=True)\n",
    "\n",
    "    print(f'Intercept: {best_model.intercept_:.3f}')\n",
    "    print('Coefficients:')\n",
    "    for name, coef in zip(best_variables, best_model.coef_):\n",
    "        print(f' {name}: {coef}')\n",
    "    minimum_aic_features = pd.Index(best_variables)\n",
    "else:\n",
    "    minimum_aic_features = pd.Index([])\n",
    "    print(\"Stepwise regression not done, other feature selection metod has to be chosen\")\n",
    "    "
   ]
  },
  {
   "cell_type": "markdown",
   "id": "8def12c5",
   "metadata": {
    "papermill": {
     "duration": 0.035886,
     "end_time": "2024-06-07T11:36:26.466326",
     "exception": false,
     "start_time": "2024-06-07T11:36:26.430440",
     "status": "completed"
    },
    "tags": []
   },
   "source": [
    "Now compare feature lists selected accoring to various methods:"
   ]
  },
  {
   "cell_type": "code",
   "execution_count": 30,
   "id": "a0508cdb",
   "metadata": {
    "execution": {
     "iopub.execute_input": "2024-06-07T11:36:26.541024Z",
     "iopub.status.busy": "2024-06-07T11:36:26.540595Z",
     "iopub.status.idle": "2024-06-07T11:36:26.555308Z",
     "shell.execute_reply": "2024-06-07T11:36:26.554268Z"
    },
    "papermill": {
     "duration": 0.055646,
     "end_time": "2024-06-07T11:36:26.558600",
     "exception": false,
     "start_time": "2024-06-07T11:36:26.502954",
     "status": "completed"
    },
    "tags": []
   },
   "outputs": [
    {
     "name": "stdout",
     "output_type": "stream",
     "text": [
      "Number of elements in minimum_aic_features: 44\n",
      "Number of elements in most_correlated (defined by user) : 20\n",
      "Number of elements in most_correlated_rfe (defined by user): 20\n",
      "\n",
      "\n",
      "Common elements between minimum_aic_features and most_correlated: \n",
      " {'1stFlrSF', 'TotRmsAbvGrd', 'MasVnrArea', 'extraordinary', 'FullBath', '2ndFlrSF', 'GarageArea', 'BsmtFinSF1', 'Fireplaces', 'LotFrontage', 'GarageYrBlt', 'WoodDeckSF', 'OverallQual', 'LotArea'}\n",
      "Common elements between minimum_aic_features and most_correlated_rfe: \n",
      " {'OverallCond', '1stFlrSF', 'BsmtQual', 'Neighborhood', 'TotRmsAbvGrd', 'MasVnrArea', '2ndFlrSF', 'FullBath', 'GarageArea', 'BsmtFinSF1', 'Fireplaces', 'LotFrontage', 'GarageYrBlt', 'WoodDeckSF', 'OverallQual', 'LotArea'}\n",
      "Common elements between most_correlated and most_correlated_rfe: \n",
      " {'1stFlrSF', 'OpenPorchSF', 'TotRmsAbvGrd', 'MasVnrArea', '2ndFlrSF', 'FullBath', 'GarageArea', 'BsmtFinSF1', 'Fireplaces', 'LotFrontage', 'GarageYrBlt', 'WoodDeckSF', 'YearRemodAdd', 'OverallQual', 'LotArea'}\n",
      "Common elements in all three lists: {'1stFlrSF', 'TotRmsAbvGrd', 'MasVnrArea', '2ndFlrSF', 'FullBath', 'GarageArea', 'BsmtFinSF1', 'Fireplaces', 'LotFrontage', 'GarageYrBlt', 'WoodDeckSF', 'OverallQual', 'LotArea'}\n",
      "\n",
      "\n",
      "Unique elements in minimum_aic_features: {'RoofStyle', 'Utilities_NoSeWa', 'MSSubClass', 'Condition2', 'KitchenQual', 'BsmtFullBath', 'BsmtExposure', 'ScreenPorch', 'Street_Pave', 'BsmtCond', 'SaleCondition', 'GarageFinish', 'BedroomAbvGr', 'RoofMatl', 'YrSold', 'LandContour', 'LandSlope', 'LotShape', 'PavedDrive', 'PoolQC', 'BsmtFinType1', 'Exterior1st', 'FireplaceQu', 'Functional', 'HeatingQC', 'PoolArea', 'ExterQual'}\n",
      "Unique elements in most_correlated: {'Foundation', 'SalePrice', 'MasVnrType', 'HalfBath'}\n",
      "Unique elements in most_correlated_rfe: {'Id', 'BsmtUnfSF'}\n",
      "\n",
      "\n",
      "Percentage of common elements in minimum_aic_features and most_correlated: 31.82%\n",
      "Percentage of common elements in minimum_aic_features and most_correlated_rfe: 36.36%\n",
      "Percentage of common elements in most_correlated and most_correlated_rfe: 75.00%\n",
      "\n",
      "\n"
     ]
    }
   ],
   "source": [
    "# Convert to sets for easy comparison\n",
    "set_aic = set(minimum_aic_features)\n",
    "set_corr = set(most_correlated)\n",
    "set_rfe = set(most_correlated_rfe)\n",
    "\n",
    "# Number of elements in each list\n",
    "num_aic = len(set_aic)\n",
    "num_corr = len(set_corr)\n",
    "num_rfe = len(set_rfe)\n",
    "\n",
    "# Common elements in each list\n",
    "common_aic_corr = set_aic & set_corr\n",
    "common_aic_rfe = set_aic & set_rfe\n",
    "common_corr_rfe = set_corr & set_rfe\n",
    "\n",
    "# Common elements across all lists\n",
    "common_all = set_aic & set_corr & set_rfe\n",
    "\n",
    "# Unique elements in each list\n",
    "unique_aic = set_aic - (set_corr | set_rfe)\n",
    "unique_corr = set_corr - (set_aic | set_rfe)\n",
    "unique_rfe = set_rfe - (set_aic | set_corr)\n",
    "\n",
    "# Print results\n",
    "print(f'Number of elements in minimum_aic_features: {num_aic}')\n",
    "print(f'Number of elements in most_correlated (defined by user) : {num_corr}')\n",
    "print(f'Number of elements in most_correlated_rfe (defined by user): {num_rfe}')\n",
    "print('\\n')\n",
    "\n",
    "print(f'Common elements between minimum_aic_features and most_correlated: \\n {common_aic_corr}')\n",
    "print(f'Common elements between minimum_aic_features and most_correlated_rfe: \\n {common_aic_rfe}')\n",
    "print(f'Common elements between most_correlated and most_correlated_rfe: \\n {common_corr_rfe}')\n",
    "print(f'Common elements in all three lists: {common_all}')\n",
    "print('\\n')\n",
    "\n",
    "print(f'Unique elements in minimum_aic_features: {unique_aic}')\n",
    "print(f'Unique elements in most_correlated: {unique_corr}')\n",
    "print(f'Unique elements in most_correlated_rfe: {unique_rfe}')\n",
    "print('\\n')\n",
    "\n",
    "# Additional analysis: Percentage of common elements in each pair\n",
    "if len(set_aic) != 0:\n",
    "    percent_common_aic_corr = len(common_aic_corr) / len(set_aic) * 100\n",
    "else:\n",
    "    percent_common_aic_corr = 0\n",
    "\n",
    "if len(set_aic) != 0:\n",
    "    percent_common_aic_rfe = len(common_aic_rfe) / len(set_aic) * 100\n",
    "else:\n",
    "    percent_common_aic_rfe = 0\n",
    "\n",
    "if len(set_corr) != 0:\n",
    "    percent_common_corr_rfe = len(common_corr_rfe) / len(set_corr) * 100\n",
    "else:\n",
    "    percent_common_corr_rfe = 0\n",
    "\n",
    "print(f'Percentage of common elements in minimum_aic_features and most_correlated: {percent_common_aic_corr:.2f}%')\n",
    "print(f'Percentage of common elements in minimum_aic_features and most_correlated_rfe: {percent_common_aic_rfe:.2f}%')\n",
    "print(f'Percentage of common elements in most_correlated and most_correlated_rfe: {percent_common_corr_rfe:.2f}%')\n",
    "print('\\n')\n"
   ]
  },
  {
   "cell_type": "code",
   "execution_count": 31,
   "id": "b002494d",
   "metadata": {
    "execution": {
     "iopub.execute_input": "2024-06-07T11:36:26.635847Z",
     "iopub.status.busy": "2024-06-07T11:36:26.635451Z",
     "iopub.status.idle": "2024-06-07T11:36:26.649478Z",
     "shell.execute_reply": "2024-06-07T11:36:26.648475Z"
    },
    "papermill": {
     "duration": 0.054602,
     "end_time": "2024-06-07T11:36:26.651743",
     "exception": false,
     "start_time": "2024-06-07T11:36:26.597141",
     "status": "completed"
    },
    "tags": []
   },
   "outputs": [
    {
     "data": {
      "text/plain": [
       "Index(['1stFlrSF', 'TotRmsAbvGrd', 'MasVnrArea', '2ndFlrSF', 'FullBath',\n",
       "       'GarageArea', 'BsmtFinSF1', 'Fireplaces', 'LotFrontage', 'GarageYrBlt',\n",
       "       'WoodDeckSF', 'OverallQual', 'LotArea'],\n",
       "      dtype='object')"
      ]
     },
     "execution_count": 31,
     "metadata": {},
     "output_type": "execute_result"
    }
   ],
   "source": [
    "# 1 for selected features only coming from correlation matrix\n",
    "# 2 for selected features only coming RFE\n",
    "# 3 for selected being union of previous two\n",
    "# 4 common for 1,2 and 4\n",
    "# 5 stepwise regression\n",
    "# 6 something else?\n",
    "\n",
    "sel_features = 4\n",
    "\n",
    "if(sel_features==1):\n",
    "    selected_features = most_correlated\n",
    "elif(sel_features==2):\n",
    "    selected_features = most_correlated_rfe\n",
    "elif(sel_features==3):\n",
    "    selected_features = most_correlated_rfe.union(most_correlated)\n",
    "elif(sel_features==4):\n",
    "    features_list = list(common_all)\n",
    "    selected_features = pd.Index(features_list)\n",
    "elif(sel_features==5):\n",
    "    selected_features = minimum_aic_features\n",
    "elif(sel_features==6):\n",
    "    features_list = ['1stFlrSF', '2ndFlrSF', 'BsmtFinSF1', 'FullBath', 'GarageArea', 'LotArea', 'OverallQual', 'TotRmsAbvGrd', 'YearRemodAdd']\n",
    "    selected_features = most_correlated.union(features_list)\n",
    "else:\n",
    "    features_list = []\n",
    "    selected_features = pd.Index(features_list)\n",
    "    print(\"WARNING! Selected features are empty list\")\n",
    "    \n",
    "if 'SalePrice' in selected_features:\n",
    "    selected_features = selected_features.drop('SalePrice')\n",
    "\n",
    "#Some issue with these features to be fixed\n",
    "if 'PoolQC' in selected_features:\n",
    "    selected_features = selected_features.drop('PoolQC')\n",
    "if 'Utilities_NoSeWa' in selected_features:\n",
    "    selected_features = selected_features.drop('Utilities_NoSeWa')\n",
    "\n",
    "selected_features\n"
   ]
  },
  {
   "cell_type": "code",
   "execution_count": 32,
   "id": "91863858",
   "metadata": {
    "execution": {
     "iopub.execute_input": "2024-06-07T11:36:26.726330Z",
     "iopub.status.busy": "2024-06-07T11:36:26.725895Z",
     "iopub.status.idle": "2024-06-07T11:36:26.732921Z",
     "shell.execute_reply": "2024-06-07T11:36:26.731917Z"
    },
    "papermill": {
     "duration": 0.047335,
     "end_time": "2024-06-07T11:36:26.735364",
     "exception": false,
     "start_time": "2024-06-07T11:36:26.688029",
     "status": "completed"
    },
    "tags": []
   },
   "outputs": [],
   "source": [
    "train_data_selected = train_data_preproc[selected_features]\n",
    "test_data_selected = test_data_preproc[selected_features]"
   ]
  },
  {
   "cell_type": "code",
   "execution_count": 33,
   "id": "37870842",
   "metadata": {
    "execution": {
     "iopub.execute_input": "2024-06-07T11:36:26.811592Z",
     "iopub.status.busy": "2024-06-07T11:36:26.811197Z",
     "iopub.status.idle": "2024-06-07T11:36:26.816984Z",
     "shell.execute_reply": "2024-06-07T11:36:26.815887Z"
    },
    "papermill": {
     "duration": 0.046577,
     "end_time": "2024-06-07T11:36:26.819349",
     "exception": false,
     "start_time": "2024-06-07T11:36:26.772772",
     "status": "completed"
    },
    "tags": []
   },
   "outputs": [],
   "source": [
    "test_data_selected = test_data_preproc[selected_features]"
   ]
  },
  {
   "cell_type": "code",
   "execution_count": 34,
   "id": "2b3578c9",
   "metadata": {
    "execution": {
     "iopub.execute_input": "2024-06-07T11:36:26.894127Z",
     "iopub.status.busy": "2024-06-07T11:36:26.893700Z",
     "iopub.status.idle": "2024-06-07T11:36:26.909415Z",
     "shell.execute_reply": "2024-06-07T11:36:26.908215Z"
    },
    "papermill": {
     "duration": 0.056662,
     "end_time": "2024-06-07T11:36:26.912383",
     "exception": false,
     "start_time": "2024-06-07T11:36:26.855721",
     "status": "completed"
    },
    "tags": []
   },
   "outputs": [
    {
     "name": "stdout",
     "output_type": "stream",
     "text": [
      "Plot summary is off.\n"
     ]
    }
   ],
   "source": [
    "from scipy import stats\n",
    "\n",
    "plot_summary = 0\n",
    "features = len(selected_features)\n",
    "\n",
    "if(plot_summary):\n",
    "    # Create subplots\n",
    "    fig, axes = plt.subplots(features, 3, figsize=(20, 4*features))\n",
    "\n",
    "    # Iterate through each feature\n",
    "    for i, feature in enumerate(selected_features):\n",
    "        row_index = i\n",
    "\n",
    "        # Check if the feature exists in the dataframe\n",
    "        if feature not in train_data_selected.columns:\n",
    "            print(f\"Warning: Feature '{feature}' does not exist in the dataframe.\")\n",
    "            continue\n",
    "\n",
    "        print(f\"Plotting: {i}. {feature}\")\n",
    "        # Check if the feature is float\n",
    "        if train_data_selected[feature].dtype == 'float':\n",
    "            # Histogram with distribution plot\n",
    "            sns.histplot(train_data_selected[feature], kde=True, ax=axes[row_index][0],label='Distribution')\n",
    "            axes[row_index][0].set_title(f'{feature} - Histogram with Distribution Plot')\n",
    "\n",
    "            # Scatter plot\n",
    "            sns.scatterplot(x=feature, y=y, data=train_data_selected, ax=axes[row_index][1],label='Scatter')\n",
    "            axes[row_index][1].set_title(f'{feature} - Scatter Plot')\n",
    "\n",
    "            # Probability plot\n",
    "            stats.probplot(train_data_selected[feature], plot=axes[row_index][2])\n",
    "            axes[row_index][2].set_title(f'{feature} - Probability Plot')\n",
    "\n",
    "        # Check if the feature is int\n",
    "        elif train_data_selected[feature].dtype == 'int':\n",
    "            # Histogram with distribution plot\n",
    "            sns.histplot(train_data_selected[feature], kde=True, ax=axes[row_index][0],label='Distribution')\n",
    "            axes[row_index][0].set_title(f'{feature} - Histogram with Distribution Plot')\n",
    "\n",
    "            # Count plot\n",
    "            sns.countplot(x=feature, data=train_data_selected, ax=axes[row_index][1],label='Count')\n",
    "            axes[row_index][1].set_title(f'{feature} - Count Plot')\n",
    "\n",
    "            sns.boxplot(x=feature, y=y, data=train_data_selected, ax=axes[row_index][2])\n",
    "            axes[row_index][2].set_title(f'{feature} - Box Plot')\n",
    "\n",
    "    # Add legends\n",
    "    for ax in axes.ravel():\n",
    "        ax.legend()\n",
    "\n",
    "    # Adjust layout\n",
    "    plt.tight_layout()\n",
    "    plt.show()\n",
    "\n",
    "else:\n",
    "    print(\"Plot summary is off.\")"
   ]
  },
  {
   "cell_type": "markdown",
   "id": "d910ca75",
   "metadata": {
    "execution": {
     "iopub.execute_input": "2024-05-31T11:26:48.156910Z",
     "iopub.status.busy": "2024-05-31T11:26:48.156363Z",
     "iopub.status.idle": "2024-05-31T11:26:48.162599Z",
     "shell.execute_reply": "2024-05-31T11:26:48.161245Z",
     "shell.execute_reply.started": "2024-05-31T11:26:48.156872Z"
    },
    "papermill": {
     "duration": 0.035999,
     "end_time": "2024-06-07T11:36:26.984904",
     "exception": false,
     "start_time": "2024-06-07T11:36:26.948905",
     "status": "completed"
    },
    "tags": []
   },
   "source": [
    "# MODEL TRAINING AND EVALUATION"
   ]
  },
  {
   "cell_type": "markdown",
   "id": "cd30521c",
   "metadata": {
    "papermill": {
     "duration": 0.038194,
     "end_time": "2024-06-07T11:36:27.059925",
     "exception": false,
     "start_time": "2024-06-07T11:36:27.021731",
     "status": "completed"
    },
    "tags": []
   },
   "source": [
    "This data set is for test and learn purposes, thus several "
   ]
  },
  {
   "cell_type": "markdown",
   "id": "2852ff97",
   "metadata": {
    "papermill": {
     "duration": 0.0374,
     "end_time": "2024-06-07T11:36:27.134445",
     "exception": false,
     "start_time": "2024-06-07T11:36:27.097045",
     "status": "completed"
    },
    "tags": []
   },
   "source": []
  },
  {
   "cell_type": "code",
   "execution_count": 35,
   "id": "114230dd",
   "metadata": {
    "execution": {
     "iopub.execute_input": "2024-06-07T11:36:27.210151Z",
     "iopub.status.busy": "2024-06-07T11:36:27.209667Z",
     "iopub.status.idle": "2024-06-07T11:36:48.190381Z",
     "shell.execute_reply": "2024-06-07T11:36:48.189013Z"
    },
    "papermill": {
     "duration": 21.022659,
     "end_time": "2024-06-07T11:36:48.193527",
     "exception": false,
     "start_time": "2024-06-07T11:36:27.170868",
     "status": "completed"
    },
    "tags": []
   },
   "outputs": [
    {
     "name": "stdout",
     "output_type": "stream",
     "text": [
      "Model: Random Forest\n",
      "Best Parameters: {'max_depth': 10, 'n_estimators': 100}\n",
      "Cross-Validation RMSE: [32532.66163977 37677.26507502 39851.15551238 26711.82269088\n",
      " 29192.74797548]\n",
      "Mean RMSE: 33193.13057870603\n",
      "Standard Deviation of RMSE: 4957.487071628488\n",
      "R^2 score: 0.8737276953960781\n",
      "\n"
     ]
    }
   ],
   "source": [
    "from sklearn.model_selection import train_test_split, cross_val_score, GridSearchCV\n",
    "from sklearn.preprocessing import StandardScaler\n",
    "from sklearn.linear_model import LinearRegression, Ridge, Lasso\n",
    "from sklearn.ensemble import RandomForestRegressor\n",
    "from sklearn.metrics import mean_squared_error, r2_score\n",
    "from sklearn.linear_model import ElasticNet\n",
    "import matplotlib.pyplot as plt\n",
    "import numpy as np\n",
    "\n",
    "#if 'SalePrice' in selected_features:\n",
    "#    selected_features = selected_features.drop('SalePrice')\n",
    "\n",
    "# Split data into training and test sets\n",
    "X_train, X_test, y_train, y_test = train_test_split(train_data_selected, y, test_size=0.2, random_state=42)\n",
    "\n",
    "# Initialize StandardScaler\n",
    "scaler = StandardScaler()\n",
    "\n",
    "# Fit and transform scaler on training data\n",
    "X_train_scaled = scaler.fit_transform(X_train)\n",
    "\n",
    "# Transform test data using the same scaler\n",
    "X_test_scaled = scaler.transform(X_test)\n",
    "\n",
    "\n",
    "test_linearregression = 0\n",
    "test_penatly = 0\n",
    "test_randomforest = 1\n",
    "\n",
    "models = {}\n",
    "\n",
    "if test_linearregression:\n",
    "    models['Linear Regression'] = LinearRegression()\n",
    "\n",
    "if test_penatly:\n",
    "    models['Ridge'] = Ridge()\n",
    "    models['Lasso'] = Lasso()\n",
    "    models['ElasticNet'] = ElasticNet()\n",
    "\n",
    "if test_randomforest:\n",
    "    models['Random Forest'] = RandomForestRegressor()\n",
    "\n",
    "# Define parameters for grid search\n",
    "params = {\n",
    "    'Linear Regression': {'fit_intercept': [False, True]},\n",
    "    'Ridge': {'alpha': [0.1, 1.0, 10.0]},\n",
    "    'Lasso': {'alpha': [0.1, 1.0, 10.0]},\n",
    "    'ElasticNet': {'alpha': [0.1, 1.0, 10.0], 'l1_ratio': [0.1, 0.5, 0.9]},  # Add parameters for ElasticNet\n",
    "    'Random Forest': {'n_estimators': [10, 50, 100], 'max_depth': [None, 10, 20]},\n",
    "}\n",
    "\n",
    "# Store results\n",
    "results = {}\n",
    "\n",
    "# Perform cross-validation and grid search for each model\n",
    "for name, model in models.items():\n",
    "    print(f\"Model: {name}\")\n",
    "    \n",
    "    # Grid search\n",
    "    if name in params:\n",
    "        grid_search = GridSearchCV(model, params[name], cv=5, scoring='neg_mean_squared_error')\n",
    "        grid_search.fit(X_train_scaled, y_train)\n",
    "        best_params = grid_search.best_params_\n",
    "        print(f\"Best Parameters: {best_params}\")\n",
    "        model.set_params(**best_params)\n",
    "    \n",
    "    # Cross-validation\n",
    "    scores = cross_val_score(model, X_train_scaled, y_train, cv=5, scoring='neg_mean_squared_error')\n",
    "    rmse_scores = np.sqrt(-scores)\n",
    "    print(f\"Cross-Validation RMSE: {rmse_scores}\")\n",
    "    print(f\"Mean RMSE: {np.mean(rmse_scores)}\")\n",
    "    print(f\"Standard Deviation of RMSE: {np.std(rmse_scores)}\")\n",
    "    \n",
    "    # Calculate R^2 score\n",
    "    model.fit(X_train_scaled, y_train)\n",
    "    y_pred = model.predict(X_test_scaled)\n",
    "    r2 = r2_score(y_test, y_pred)\n",
    "    print(f\"R^2 score: {r2}\")\n",
    "    print()\n",
    "\n",
    "    # Store results\n",
    "    results[name] = {\n",
    "        'Cross-Validation RMSE': rmse_scores,\n",
    "        'Mean RMSE': np.mean(rmse_scores),\n",
    "        'Standard Deviation of RMSE': np.std(rmse_scores),\n",
    "        'R^2 score': r2\n",
    "    }\n",
    "\n",
    "        # Plot results\n",
    "    plt.figure(figsize=(7, 3))\n",
    "\n",
    "    # First subplot: Scatter plot of predicted values vs. residuals\n",
    "\n",
    "    plt.subplot(1, 2, 1)\n",
    "    plt.scatter(y_pred, y_test - y_pred)\n",
    "    plt.xlabel('Predicted values')\n",
    "    plt.ylabel('Residuals')    \n",
    "    #if(name == 'Random Forest'):\n",
    "    #    plt.ylim(-100,10000)\n",
    "    plt.title(f'{name} - Residual Plot')\n",
    "    plt.axhline(y=0, color='r', linestyle='-')\n",
    "\n",
    "    # Second subplot: Histogram of residuals\n",
    "    plt.subplot(1, 2, 2)\n",
    "    plt.hist(y_test - y_pred, bins=20)\n",
    "    plt.xlabel('Residuals')\n",
    "    plt.ylabel('Frequency')\n",
    "    #plt.xlim(-10,10)\n",
    "    plt.title(f'{name} - Residual Histogram')\n",
    "\n",
    "    plt.tight_layout()  # Adjust layout to prevent overlap\n",
    "    plt.show()"
   ]
  },
  {
   "cell_type": "markdown",
   "id": "1438235f",
   "metadata": {
    "papermill": {
     "duration": 0.037803,
     "end_time": "2024-06-07T11:36:48.271178",
     "exception": false,
     "start_time": "2024-06-07T11:36:48.233375",
     "status": "completed"
    },
    "tags": []
   },
   "source": [
    "Various techniques of feature selection has been tested and also various models. Below the table containing R^2 for different option is presented: \n",
    "\n",
    "| Feature Selection | Linear Regression        | Ridge Regression     | Lasso Regression     | Elastic Net         | Random Forest       |\n",
    "|-------------------|--------------------------|----------------------|----------------------|---------------------|---------------------|\n",
    "| AIC opt (stepwise)| R² - 84.81% (v7)          | R² - 84.84%          | R² - 84.83%          | R² - 84.69%         | R² - 88.55% (v16)   |\n",
    "| RFE (using RF)    | R² - 81.50% (v9)          | R² - 81.51% (v13)    | R² - 81.54% (v13)    | R² - 81.07% (v13)   | R² - 88.53% (v17)   |\n",
    "| Highest coef      | R² - 81.04% (v10)        | R² - 80.99% (v14)    | R² - 81.46% (v14)    | R² - 80.56% (v14)   | R² - 88.44% (v17)   |\n",
    "| Common features   | R² - 80.08% (v11)        | R² - 80.77% (v12)    | R² - 80.08% (v12)    | R² - 80.29% (v12)   | R² - 87.46% (v19)   |\n",
    "\n",
    "\n",
    "**> Best score: Random Forest using stepwise regression with AIC minimization for feature selection** (also best results in competiton, tested on test_data dataset)"
   ]
  },
  {
   "cell_type": "code",
   "execution_count": 36,
   "id": "947a985a",
   "metadata": {
    "execution": {
     "iopub.execute_input": "2024-06-07T11:36:48.346578Z",
     "iopub.status.busy": "2024-06-07T11:36:48.346159Z",
     "iopub.status.idle": "2024-06-07T11:36:48.537529Z",
     "shell.execute_reply": "2024-06-07T11:36:48.536415Z"
    },
    "papermill": {
     "duration": 0.232726,
     "end_time": "2024-06-07T11:36:48.540780",
     "exception": false,
     "start_time": "2024-06-07T11:36:48.308054",
     "status": "completed"
    },
    "tags": []
   },
   "outputs": [],
   "source": [
    "plt.figure(figsize=(5, 3))\n",
    "for name, result in results.items():\n",
    "    if(name=='Random Forest'):\n",
    "        continue\n",
    "    plt.bar(name, result['Mean RMSE'], label=name)\n",
    "plt.xlabel('Regression Model')\n",
    "plt.ylabel('Mean RMSE')\n",
    "plt.ylim(37000,38000)\n",
    "plt.title('Mean RMSE for Different Regression Models')\n",
    "plt.legend()\n",
    "plt.show()\n",
    "\n",
    "# Plot R^2 score for each model\n",
    "plt.figure(figsize=(5, 3))\n",
    "for name, result in results.items():\n",
    "    plt.bar(name, result['R^2 score'], label=name)\n",
    "plt.xlabel('Regression Model')\n",
    "plt.ylabel('R^2 score')\n",
    "plt.ylim(0.80,0.88)\n",
    "plt.title('R^2 Score for Different Regression Models')\n",
    "plt.legend()\n",
    "plt.show()"
   ]
  },
  {
   "cell_type": "markdown",
   "id": "c05ac159",
   "metadata": {
    "papermill": {
     "duration": 0.037974,
     "end_time": "2024-06-07T11:36:48.617360",
     "exception": false,
     "start_time": "2024-06-07T11:36:48.579386",
     "status": "completed"
    },
    "tags": []
   },
   "source": [
    "The best model is:"
   ]
  },
  {
   "cell_type": "code",
   "execution_count": 37,
   "id": "dfdbb45d",
   "metadata": {
    "execution": {
     "iopub.execute_input": "2024-06-07T11:36:48.695360Z",
     "iopub.status.busy": "2024-06-07T11:36:48.694964Z",
     "iopub.status.idle": "2024-06-07T11:36:48.705114Z",
     "shell.execute_reply": "2024-06-07T11:36:48.704036Z"
    },
    "papermill": {
     "duration": 0.052807,
     "end_time": "2024-06-07T11:36:48.707633",
     "exception": false,
     "start_time": "2024-06-07T11:36:48.654826",
     "status": "completed"
    },
    "tags": []
   },
   "outputs": [
    {
     "data": {
      "text/html": [
       "<style>#sk-container-id-1 {color: black;background-color: white;}#sk-container-id-1 pre{padding: 0;}#sk-container-id-1 div.sk-toggleable {background-color: white;}#sk-container-id-1 label.sk-toggleable__label {cursor: pointer;display: block;width: 100%;margin-bottom: 0;padding: 0.3em;box-sizing: border-box;text-align: center;}#sk-container-id-1 label.sk-toggleable__label-arrow:before {content: \"▸\";float: left;margin-right: 0.25em;color: #696969;}#sk-container-id-1 label.sk-toggleable__label-arrow:hover:before {color: black;}#sk-container-id-1 div.sk-estimator:hover label.sk-toggleable__label-arrow:before {color: black;}#sk-container-id-1 div.sk-toggleable__content {max-height: 0;max-width: 0;overflow: hidden;text-align: left;background-color: #f0f8ff;}#sk-container-id-1 div.sk-toggleable__content pre {margin: 0.2em;color: black;border-radius: 0.25em;background-color: #f0f8ff;}#sk-container-id-1 input.sk-toggleable__control:checked~div.sk-toggleable__content {max-height: 200px;max-width: 100%;overflow: auto;}#sk-container-id-1 input.sk-toggleable__control:checked~label.sk-toggleable__label-arrow:before {content: \"▾\";}#sk-container-id-1 div.sk-estimator input.sk-toggleable__control:checked~label.sk-toggleable__label {background-color: #d4ebff;}#sk-container-id-1 div.sk-label input.sk-toggleable__control:checked~label.sk-toggleable__label {background-color: #d4ebff;}#sk-container-id-1 input.sk-hidden--visually {border: 0;clip: rect(1px 1px 1px 1px);clip: rect(1px, 1px, 1px, 1px);height: 1px;margin: -1px;overflow: hidden;padding: 0;position: absolute;width: 1px;}#sk-container-id-1 div.sk-estimator {font-family: monospace;background-color: #f0f8ff;border: 1px dotted black;border-radius: 0.25em;box-sizing: border-box;margin-bottom: 0.5em;}#sk-container-id-1 div.sk-estimator:hover {background-color: #d4ebff;}#sk-container-id-1 div.sk-parallel-item::after {content: \"\";width: 100%;border-bottom: 1px solid gray;flex-grow: 1;}#sk-container-id-1 div.sk-label:hover label.sk-toggleable__label {background-color: #d4ebff;}#sk-container-id-1 div.sk-serial::before {content: \"\";position: absolute;border-left: 1px solid gray;box-sizing: border-box;top: 0;bottom: 0;left: 50%;z-index: 0;}#sk-container-id-1 div.sk-serial {display: flex;flex-direction: column;align-items: center;background-color: white;padding-right: 0.2em;padding-left: 0.2em;position: relative;}#sk-container-id-1 div.sk-item {position: relative;z-index: 1;}#sk-container-id-1 div.sk-parallel {display: flex;align-items: stretch;justify-content: center;background-color: white;position: relative;}#sk-container-id-1 div.sk-item::before, #sk-container-id-1 div.sk-parallel-item::before {content: \"\";position: absolute;border-left: 1px solid gray;box-sizing: border-box;top: 0;bottom: 0;left: 50%;z-index: -1;}#sk-container-id-1 div.sk-parallel-item {display: flex;flex-direction: column;z-index: 1;position: relative;background-color: white;}#sk-container-id-1 div.sk-parallel-item:first-child::after {align-self: flex-end;width: 50%;}#sk-container-id-1 div.sk-parallel-item:last-child::after {align-self: flex-start;width: 50%;}#sk-container-id-1 div.sk-parallel-item:only-child::after {width: 0;}#sk-container-id-1 div.sk-dashed-wrapped {border: 1px dashed gray;margin: 0 0.4em 0.5em 0.4em;box-sizing: border-box;padding-bottom: 0.4em;background-color: white;}#sk-container-id-1 div.sk-label label {font-family: monospace;font-weight: bold;display: inline-block;line-height: 1.2em;}#sk-container-id-1 div.sk-label-container {text-align: center;}#sk-container-id-1 div.sk-container {/* jupyter's `normalize.less` sets `[hidden] { display: none; }` but bootstrap.min.css set `[hidden] { display: none !important; }` so we also need the `!important` here to be able to override the default hidden behavior on the sphinx rendered scikit-learn.org. See: https://github.com/scikit-learn/scikit-learn/issues/21755 */display: inline-block !important;position: relative;}#sk-container-id-1 div.sk-text-repr-fallback {display: none;}</style><div id=\"sk-container-id-1\" class=\"sk-top-container\"><div class=\"sk-text-repr-fallback\"><pre>RandomForestRegressor(max_depth=10)</pre><b>In a Jupyter environment, please rerun this cell to show the HTML representation or trust the notebook. <br />On GitHub, the HTML representation is unable to render, please try loading this page with nbviewer.org.</b></div><div class=\"sk-container\" hidden><div class=\"sk-item\"><div class=\"sk-estimator sk-toggleable\"><input class=\"sk-toggleable__control sk-hidden--visually\" id=\"sk-estimator-id-1\" type=\"checkbox\" checked><label for=\"sk-estimator-id-1\" class=\"sk-toggleable__label sk-toggleable__label-arrow\">RandomForestRegressor</label><div class=\"sk-toggleable__content\"><pre>RandomForestRegressor(max_depth=10)</pre></div></div></div></div></div>"
      ],
      "text/plain": [
       "RandomForestRegressor(max_depth=10)"
      ]
     },
     "execution_count": 37,
     "metadata": {},
     "output_type": "execute_result"
    }
   ],
   "source": [
    "best_model = grid_search.best_estimator_\n",
    "best_model"
   ]
  },
  {
   "cell_type": "code",
   "execution_count": 38,
   "id": "f360f206",
   "metadata": {
    "execution": {
     "iopub.execute_input": "2024-06-07T11:36:48.786261Z",
     "iopub.status.busy": "2024-06-07T11:36:48.785807Z",
     "iopub.status.idle": "2024-06-07T11:36:48.793257Z",
     "shell.execute_reply": "2024-06-07T11:36:48.792184Z"
    },
    "papermill": {
     "duration": 0.050273,
     "end_time": "2024-06-07T11:36:48.795899",
     "exception": false,
     "start_time": "2024-06-07T11:36:48.745626",
     "status": "completed"
    },
    "tags": []
   },
   "outputs": [
    {
     "data": {
      "text/plain": [
       "Index(['1stFlrSF', 'TotRmsAbvGrd', 'MasVnrArea', '2ndFlrSF', 'FullBath',\n",
       "       'GarageArea', 'BsmtFinSF1', 'Fireplaces', 'LotFrontage', 'GarageYrBlt',\n",
       "       'WoodDeckSF', 'OverallQual', 'LotArea'],\n",
       "      dtype='object')"
      ]
     },
     "execution_count": 38,
     "metadata": {},
     "output_type": "execute_result"
    }
   ],
   "source": [
    "selected_features"
   ]
  },
  {
   "cell_type": "code",
   "execution_count": 39,
   "id": "92e591fb",
   "metadata": {
    "execution": {
     "iopub.execute_input": "2024-06-07T11:36:48.873035Z",
     "iopub.status.busy": "2024-06-07T11:36:48.872602Z",
     "iopub.status.idle": "2024-06-07T11:36:48.880613Z",
     "shell.execute_reply": "2024-06-07T11:36:48.879287Z"
    },
    "papermill": {
     "duration": 0.049569,
     "end_time": "2024-06-07T11:36:48.883238",
     "exception": false,
     "start_time": "2024-06-07T11:36:48.833669",
     "status": "completed"
    },
    "tags": []
   },
   "outputs": [
    {
     "name": "stdout",
     "output_type": "stream",
     "text": [
      "DataFrame has NaN values: False\n"
     ]
    }
   ],
   "source": [
    "# Check for any NaN values\n",
    "has_nan = test_data_preproc.isna().any().any()\n",
    "print(\"DataFrame has NaN values:\", has_nan)"
   ]
  },
  {
   "cell_type": "code",
   "execution_count": 40,
   "id": "95244d40",
   "metadata": {
    "execution": {
     "iopub.execute_input": "2024-06-07T11:36:48.962002Z",
     "iopub.status.busy": "2024-06-07T11:36:48.960924Z",
     "iopub.status.idle": "2024-06-07T11:36:48.987173Z",
     "shell.execute_reply": "2024-06-07T11:36:48.985914Z"
    },
    "papermill": {
     "duration": 0.068325,
     "end_time": "2024-06-07T11:36:48.989659",
     "exception": false,
     "start_time": "2024-06-07T11:36:48.921334",
     "status": "completed"
    },
    "tags": []
   },
   "outputs": [
    {
     "data": {
      "text/html": [
       "<div>\n",
       "<style scoped>\n",
       "    .dataframe tbody tr th:only-of-type {\n",
       "        vertical-align: middle;\n",
       "    }\n",
       "\n",
       "    .dataframe tbody tr th {\n",
       "        vertical-align: top;\n",
       "    }\n",
       "\n",
       "    .dataframe thead th {\n",
       "        text-align: right;\n",
       "    }\n",
       "</style>\n",
       "<table border=\"1\" class=\"dataframe\">\n",
       "  <thead>\n",
       "    <tr style=\"text-align: right;\">\n",
       "      <th></th>\n",
       "      <th>1stFlrSF</th>\n",
       "      <th>TotRmsAbvGrd</th>\n",
       "      <th>MasVnrArea</th>\n",
       "      <th>2ndFlrSF</th>\n",
       "      <th>FullBath</th>\n",
       "      <th>GarageArea</th>\n",
       "      <th>BsmtFinSF1</th>\n",
       "      <th>Fireplaces</th>\n",
       "      <th>LotFrontage</th>\n",
       "      <th>GarageYrBlt</th>\n",
       "      <th>WoodDeckSF</th>\n",
       "      <th>OverallQual</th>\n",
       "      <th>LotArea</th>\n",
       "    </tr>\n",
       "  </thead>\n",
       "  <tbody>\n",
       "    <tr>\n",
       "      <th>0</th>\n",
       "      <td>896.0</td>\n",
       "      <td>5.0</td>\n",
       "      <td>0.0</td>\n",
       "      <td>0.0</td>\n",
       "      <td>1.0</td>\n",
       "      <td>730.0</td>\n",
       "      <td>468.0</td>\n",
       "      <td>0.0</td>\n",
       "      <td>80.0</td>\n",
       "      <td>1961.0</td>\n",
       "      <td>140.0</td>\n",
       "      <td>5.0</td>\n",
       "      <td>11622.0</td>\n",
       "    </tr>\n",
       "    <tr>\n",
       "      <th>1</th>\n",
       "      <td>1329.0</td>\n",
       "      <td>6.0</td>\n",
       "      <td>108.0</td>\n",
       "      <td>0.0</td>\n",
       "      <td>1.0</td>\n",
       "      <td>312.0</td>\n",
       "      <td>923.0</td>\n",
       "      <td>0.0</td>\n",
       "      <td>81.0</td>\n",
       "      <td>1958.0</td>\n",
       "      <td>393.0</td>\n",
       "      <td>6.0</td>\n",
       "      <td>14267.0</td>\n",
       "    </tr>\n",
       "    <tr>\n",
       "      <th>2</th>\n",
       "      <td>928.0</td>\n",
       "      <td>6.0</td>\n",
       "      <td>0.0</td>\n",
       "      <td>701.0</td>\n",
       "      <td>2.0</td>\n",
       "      <td>482.0</td>\n",
       "      <td>791.0</td>\n",
       "      <td>1.0</td>\n",
       "      <td>74.0</td>\n",
       "      <td>1997.0</td>\n",
       "      <td>212.0</td>\n",
       "      <td>5.0</td>\n",
       "      <td>13830.0</td>\n",
       "    </tr>\n",
       "    <tr>\n",
       "      <th>3</th>\n",
       "      <td>926.0</td>\n",
       "      <td>7.0</td>\n",
       "      <td>20.0</td>\n",
       "      <td>678.0</td>\n",
       "      <td>2.0</td>\n",
       "      <td>470.0</td>\n",
       "      <td>602.0</td>\n",
       "      <td>1.0</td>\n",
       "      <td>78.0</td>\n",
       "      <td>1998.0</td>\n",
       "      <td>360.0</td>\n",
       "      <td>6.0</td>\n",
       "      <td>9978.0</td>\n",
       "    </tr>\n",
       "    <tr>\n",
       "      <th>4</th>\n",
       "      <td>1280.0</td>\n",
       "      <td>5.0</td>\n",
       "      <td>0.0</td>\n",
       "      <td>0.0</td>\n",
       "      <td>2.0</td>\n",
       "      <td>506.0</td>\n",
       "      <td>263.0</td>\n",
       "      <td>0.0</td>\n",
       "      <td>43.0</td>\n",
       "      <td>1992.0</td>\n",
       "      <td>0.0</td>\n",
       "      <td>8.0</td>\n",
       "      <td>5005.0</td>\n",
       "    </tr>\n",
       "  </tbody>\n",
       "</table>\n",
       "</div>"
      ],
      "text/plain": [
       "   1stFlrSF  TotRmsAbvGrd  MasVnrArea  2ndFlrSF  FullBath  GarageArea  \\\n",
       "0     896.0           5.0         0.0       0.0       1.0       730.0   \n",
       "1    1329.0           6.0       108.0       0.0       1.0       312.0   \n",
       "2     928.0           6.0         0.0     701.0       2.0       482.0   \n",
       "3     926.0           7.0        20.0     678.0       2.0       470.0   \n",
       "4    1280.0           5.0         0.0       0.0       2.0       506.0   \n",
       "\n",
       "   BsmtFinSF1  Fireplaces  LotFrontage  GarageYrBlt  WoodDeckSF  OverallQual  \\\n",
       "0       468.0         0.0         80.0       1961.0       140.0          5.0   \n",
       "1       923.0         0.0         81.0       1958.0       393.0          6.0   \n",
       "2       791.0         1.0         74.0       1997.0       212.0          5.0   \n",
       "3       602.0         1.0         78.0       1998.0       360.0          6.0   \n",
       "4       263.0         0.0         43.0       1992.0         0.0          8.0   \n",
       "\n",
       "   LotArea  \n",
       "0  11622.0  \n",
       "1  14267.0  \n",
       "2  13830.0  \n",
       "3   9978.0  \n",
       "4   5005.0  "
      ]
     },
     "execution_count": 40,
     "metadata": {},
     "output_type": "execute_result"
    }
   ],
   "source": [
    "test_data_selected.head()"
   ]
  },
  {
   "cell_type": "code",
   "execution_count": 41,
   "id": "280b40b4",
   "metadata": {
    "execution": {
     "iopub.execute_input": "2024-06-07T11:36:49.067170Z",
     "iopub.status.busy": "2024-06-07T11:36:49.066767Z",
     "iopub.status.idle": "2024-06-07T11:36:49.111208Z",
     "shell.execute_reply": "2024-06-07T11:36:49.110127Z"
    },
    "papermill": {
     "duration": 0.085881,
     "end_time": "2024-06-07T11:36:49.113896",
     "exception": false,
     "start_time": "2024-06-07T11:36:49.028015",
     "status": "completed"
    },
    "tags": []
   },
   "outputs": [
    {
     "data": {
      "text/html": [
       "<div>\n",
       "<style scoped>\n",
       "    .dataframe tbody tr th:only-of-type {\n",
       "        vertical-align: middle;\n",
       "    }\n",
       "\n",
       "    .dataframe tbody tr th {\n",
       "        vertical-align: top;\n",
       "    }\n",
       "\n",
       "    .dataframe thead th {\n",
       "        text-align: right;\n",
       "    }\n",
       "</style>\n",
       "<table border=\"1\" class=\"dataframe\">\n",
       "  <thead>\n",
       "    <tr style=\"text-align: right;\">\n",
       "      <th></th>\n",
       "      <th>Id</th>\n",
       "      <th>SalePrice</th>\n",
       "    </tr>\n",
       "  </thead>\n",
       "  <tbody>\n",
       "    <tr>\n",
       "      <th>0</th>\n",
       "      <td>1461</td>\n",
       "      <td>133034.326259</td>\n",
       "    </tr>\n",
       "    <tr>\n",
       "      <th>1</th>\n",
       "      <td>1462</td>\n",
       "      <td>163563.919528</td>\n",
       "    </tr>\n",
       "    <tr>\n",
       "      <th>2</th>\n",
       "      <td>1463</td>\n",
       "      <td>162239.111028</td>\n",
       "    </tr>\n",
       "    <tr>\n",
       "      <th>3</th>\n",
       "      <td>1464</td>\n",
       "      <td>178370.340421</td>\n",
       "    </tr>\n",
       "    <tr>\n",
       "      <th>4</th>\n",
       "      <td>1465</td>\n",
       "      <td>206074.808564</td>\n",
       "    </tr>\n",
       "  </tbody>\n",
       "</table>\n",
       "</div>"
      ],
      "text/plain": [
       "     Id      SalePrice\n",
       "0  1461  133034.326259\n",
       "1  1462  163563.919528\n",
       "2  1463  162239.111028\n",
       "3  1464  178370.340421\n",
       "4  1465  206074.808564"
      ]
     },
     "execution_count": 41,
     "metadata": {},
     "output_type": "execute_result"
    }
   ],
   "source": [
    "test_data_scaled = scaler.transform(test_data_selected[selected_features])\n",
    "\n",
    "# Predict SalePrice using the best_model\n",
    "predicted_sale_price = best_model.predict(test_data_scaled)\n",
    "\n",
    "# Create a dataframe with Id and predicted SalePrice\n",
    "predicted_df = pd.DataFrame({\n",
    "    'Id': test_data_preproc['Id'],  # Assuming 'Id' is the index of the DataFrame\n",
    "    'SalePrice': predicted_sale_price\n",
    "})\n",
    "\n",
    "# Ensure 'Id' is saved as an integer\n",
    "predicted_df['Id'] = predicted_df['Id'].astype(int)\n",
    "\n",
    "# Save the dataframe to a CSV file\n",
    "predicted_df.to_csv('submission.csv', index=False)\n",
    "\n",
    "# Display the dataframe\n",
    "predicted_df.head(5)"
   ]
  },
  {
   "cell_type": "code",
   "execution_count": 42,
   "id": "db6dfd31",
   "metadata": {
    "execution": {
     "iopub.execute_input": "2024-06-07T11:36:49.195430Z",
     "iopub.status.busy": "2024-06-07T11:36:49.195020Z",
     "iopub.status.idle": "2024-06-07T11:36:49.204858Z",
     "shell.execute_reply": "2024-06-07T11:36:49.203656Z"
    },
    "papermill": {
     "duration": 0.05358,
     "end_time": "2024-06-07T11:36:49.207553",
     "exception": false,
     "start_time": "2024-06-07T11:36:49.153973",
     "status": "completed"
    },
    "tags": []
   },
   "outputs": [],
   "source": [
    "# Check the type of the best estimator and plot feature importance accordingly\n",
    "def plot_feature_importance(model, feature_names):\n",
    "    if hasattr(model, 'feature_importances_'):\n",
    "        # For tree-based models\n",
    "        importances = model.feature_importances_\n",
    "    elif hasattr(model, 'coef_'):\n",
    "        # For linear models like Logistic Regression\n",
    "        importances = np.abs(model.coef_[0])\n",
    "    else:\n",
    "        print(f\"Model {type(model).__name__} does not support feature importance.\")\n",
    "        return\n",
    "    \n",
    "    # Create a DataFrame for better visualization\n",
    "    feature_importance_df = pd.DataFrame({'Feature': feature_names, 'Importance': importances})\n",
    "    # Sort the DataFrame by importance\n",
    "    feature_importance_df = feature_importance_df.sort_values(by='Importance', ascending=False)\n",
    "    print(feature_names)\n",
    "    print(feature_importance_df.head(50))\n",
    "    # Plot the feature importance\n",
    "    plt.figure(figsize=(10, 6))\n",
    "    plt.barh(feature_importance_df['Feature'], feature_importance_df['Importance'], color='skyblue')\n",
    "    plt.xlabel('Importance')\n",
    "    plt.title(f'Feature Importance in {type(model).__name__}')\n",
    "    plt.gca().invert_yaxis()  # To display the most important feature at the top\n",
    "    plt.show()"
   ]
  },
  {
   "cell_type": "code",
   "execution_count": 43,
   "id": "16db616f",
   "metadata": {
    "execution": {
     "iopub.execute_input": "2024-06-07T11:36:49.285698Z",
     "iopub.status.busy": "2024-06-07T11:36:49.285304Z",
     "iopub.status.idle": "2024-06-07T11:36:49.447686Z",
     "shell.execute_reply": "2024-06-07T11:36:49.446519Z"
    },
    "papermill": {
     "duration": 0.207675,
     "end_time": "2024-06-07T11:36:49.453409",
     "exception": false,
     "start_time": "2024-06-07T11:36:49.245734",
     "status": "completed"
    },
    "tags": []
   },
   "outputs": [
    {
     "name": "stdout",
     "output_type": "stream",
     "text": [
      "Index(['1stFlrSF', 'TotRmsAbvGrd', 'MasVnrArea', '2ndFlrSF', 'FullBath',\n",
      "       'GarageArea', 'BsmtFinSF1', 'Fireplaces', 'LotFrontage', 'GarageYrBlt',\n",
      "       'WoodDeckSF', 'OverallQual', 'LotArea'],\n",
      "      dtype='object')\n",
      "         Feature  Importance\n",
      "11   OverallQual    0.612921\n",
      "3       2ndFlrSF    0.066263\n",
      "0       1stFlrSF    0.064088\n",
      "6     BsmtFinSF1    0.046981\n",
      "5     GarageArea    0.046934\n",
      "12       LotArea    0.040172\n",
      "4       FullBath    0.031044\n",
      "9    GarageYrBlt    0.020394\n",
      "1   TotRmsAbvGrd    0.020061\n",
      "8    LotFrontage    0.016005\n",
      "7     Fireplaces    0.014576\n",
      "10    WoodDeckSF    0.012584\n",
      "2     MasVnrArea    0.007976\n"
     ]
    }
   ],
   "source": [
    "plot_feature_importance(best_model, selected_features)"
   ]
  },
  {
   "cell_type": "code",
   "execution_count": null,
   "id": "e3c7d01b",
   "metadata": {
    "papermill": {
     "duration": 0.037911,
     "end_time": "2024-06-07T11:36:49.561102",
     "exception": false,
     "start_time": "2024-06-07T11:36:49.523191",
     "status": "completed"
    },
    "tags": []
   },
   "outputs": [],
   "source": []
  }
 ],
 "metadata": {
  "kaggle": {
   "accelerator": "none",
   "dataSources": [
    {
     "databundleVersionId": 868283,
     "sourceId": 5407,
     "sourceType": "competition"
    }
   ],
   "dockerImageVersionId": 30698,
   "isGpuEnabled": false,
   "isInternetEnabled": true,
   "language": "python",
   "sourceType": "notebook"
  },
  "kernelspec": {
   "display_name": "Python 3",
   "language": "python",
   "name": "python3"
  },
  "language_info": {
   "codemirror_mode": {
    "name": "ipython",
    "version": 3
   },
   "file_extension": ".py",
   "mimetype": "text/x-python",
   "name": "python",
   "nbconvert_exporter": "python",
   "pygments_lexer": "ipython3",
   "version": "3.10.13"
  },
  "papermill": {
   "default_parameters": {},
   "duration": 245.032423,
   "end_time": "2024-06-07T11:36:50.423057",
   "environment_variables": {},
   "exception": null,
   "input_path": "__notebook__.ipynb",
   "output_path": "__notebook__.ipynb",
   "parameters": {},
   "start_time": "2024-06-07T11:32:45.390634",
   "version": "2.5.0"
  }
 },
 "nbformat": 4,
 "nbformat_minor": 5
}
